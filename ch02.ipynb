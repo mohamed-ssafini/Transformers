{
  "cells": [
    {
      "cell_type": "markdown",
      "metadata": {
        "id": "view-in-github",
        "colab_type": "text"
      },
      "source": [
        "<a href=\"https://colab.research.google.com/github/mohamed-ssafini/Transformers/blob/main/ch02.ipynb\" target=\"_parent\"><img src=\"https://colab.research.google.com/assets/colab-badge.svg\" alt=\"Open In Colab\"/></a>"
      ]
    },
    {
      "cell_type": "markdown",
      "id": "25aa40e3-5109-433f-9153-f5770531fe94",
      "metadata": {
        "id": "25aa40e3-5109-433f-9153-f5770531fe94"
      },
      "source": [
        "# Chapter 2: Working with Text"
      ]
    },
    {
      "cell_type": "markdown",
      "id": "76d5d2c0-cba8-404e-9bf3-71a218cae3cf",
      "metadata": {
        "id": "76d5d2c0-cba8-404e-9bf3-71a218cae3cf"
      },
      "source": [
        "Packages that are being used in this notebook:"
      ]
    },
    {
      "cell_type": "code",
      "execution_count": 3,
      "id": "4d1305cf-12d5-46fe-a2c9-36fb71c5b3d3",
      "metadata": {
        "colab": {
          "base_uri": "https://localhost:8080/",
          "height": 524
        },
        "id": "4d1305cf-12d5-46fe-a2c9-36fb71c5b3d3",
        "outputId": "19878785-e7e2-44c1-9221-c63b9f18044b"
      },
      "outputs": [
        {
          "output_type": "stream",
          "name": "stdout",
          "text": [
            "torch version: 2.5.1+cu121\n"
          ]
        },
        {
          "output_type": "error",
          "ename": "PackageNotFoundError",
          "evalue": "No package metadata was found for tiktoken",
          "traceback": [
            "\u001b[0;31m---------------------------------------------------------------------------\u001b[0m",
            "\u001b[0;31mPackageNotFoundError\u001b[0m                      Traceback (most recent call last)",
            "\u001b[0;32m<ipython-input-3-4d8196c99f66>\u001b[0m in \u001b[0;36m<cell line: 4>\u001b[0;34m()\u001b[0m\n\u001b[1;32m      2\u001b[0m \u001b[0;34m\u001b[0m\u001b[0m\n\u001b[1;32m      3\u001b[0m \u001b[0mprint\u001b[0m\u001b[0;34m(\u001b[0m\u001b[0;34m\"torch version:\"\u001b[0m\u001b[0;34m,\u001b[0m \u001b[0mversion\u001b[0m\u001b[0;34m(\u001b[0m\u001b[0;34m\"torch\"\u001b[0m\u001b[0;34m)\u001b[0m\u001b[0;34m)\u001b[0m\u001b[0;34m\u001b[0m\u001b[0;34m\u001b[0m\u001b[0m\n\u001b[0;32m----> 4\u001b[0;31m \u001b[0mprint\u001b[0m\u001b[0;34m(\u001b[0m\u001b[0;34m\"tiktoken version:\"\u001b[0m\u001b[0;34m,\u001b[0m \u001b[0mversion\u001b[0m\u001b[0;34m(\u001b[0m\u001b[0;34m\"tiktoken\"\u001b[0m\u001b[0;34m)\u001b[0m\u001b[0;34m)\u001b[0m\u001b[0;34m\u001b[0m\u001b[0;34m\u001b[0m\u001b[0m\n\u001b[0m",
            "\u001b[0;32m/usr/lib/python3.10/importlib/metadata/__init__.py\u001b[0m in \u001b[0;36mversion\u001b[0;34m(distribution_name)\u001b[0m\n\u001b[1;32m    994\u001b[0m         \u001b[0;34m\"Version\"\u001b[0m \u001b[0mmetadata\u001b[0m \u001b[0mkey\u001b[0m\u001b[0;34m.\u001b[0m\u001b[0;34m\u001b[0m\u001b[0;34m\u001b[0m\u001b[0m\n\u001b[1;32m    995\u001b[0m     \"\"\"\n\u001b[0;32m--> 996\u001b[0;31m     \u001b[0;32mreturn\u001b[0m \u001b[0mdistribution\u001b[0m\u001b[0;34m(\u001b[0m\u001b[0mdistribution_name\u001b[0m\u001b[0;34m)\u001b[0m\u001b[0;34m.\u001b[0m\u001b[0mversion\u001b[0m\u001b[0;34m\u001b[0m\u001b[0;34m\u001b[0m\u001b[0m\n\u001b[0m\u001b[1;32m    997\u001b[0m \u001b[0;34m\u001b[0m\u001b[0m\n\u001b[1;32m    998\u001b[0m \u001b[0;34m\u001b[0m\u001b[0m\n",
            "\u001b[0;32m/usr/lib/python3.10/importlib/metadata/__init__.py\u001b[0m in \u001b[0;36mdistribution\u001b[0;34m(distribution_name)\u001b[0m\n\u001b[1;32m    967\u001b[0m     \u001b[0;34m:\u001b[0m\u001b[0;32mreturn\u001b[0m\u001b[0;34m:\u001b[0m \u001b[0mA\u001b[0m\u001b[0;31m \u001b[0m\u001b[0;31m`\u001b[0m\u001b[0;31m`\u001b[0m\u001b[0mDistribution\u001b[0m\u001b[0;31m`\u001b[0m\u001b[0;31m`\u001b[0m \u001b[0minstance\u001b[0m \u001b[0;34m(\u001b[0m\u001b[0;32mor\u001b[0m \u001b[0msubclass\u001b[0m \u001b[0mthereof\u001b[0m\u001b[0;34m)\u001b[0m\u001b[0;34m.\u001b[0m\u001b[0;34m\u001b[0m\u001b[0;34m\u001b[0m\u001b[0m\n\u001b[1;32m    968\u001b[0m     \"\"\"\n\u001b[0;32m--> 969\u001b[0;31m     \u001b[0;32mreturn\u001b[0m \u001b[0mDistribution\u001b[0m\u001b[0;34m.\u001b[0m\u001b[0mfrom_name\u001b[0m\u001b[0;34m(\u001b[0m\u001b[0mdistribution_name\u001b[0m\u001b[0;34m)\u001b[0m\u001b[0;34m\u001b[0m\u001b[0;34m\u001b[0m\u001b[0m\n\u001b[0m\u001b[1;32m    970\u001b[0m \u001b[0;34m\u001b[0m\u001b[0m\n\u001b[1;32m    971\u001b[0m \u001b[0;34m\u001b[0m\u001b[0m\n",
            "\u001b[0;32m/usr/lib/python3.10/importlib/metadata/__init__.py\u001b[0m in \u001b[0;36mfrom_name\u001b[0;34m(cls, name)\u001b[0m\n\u001b[1;32m    546\u001b[0m                 \u001b[0;32mreturn\u001b[0m \u001b[0mdist\u001b[0m\u001b[0;34m\u001b[0m\u001b[0;34m\u001b[0m\u001b[0m\n\u001b[1;32m    547\u001b[0m         \u001b[0;32melse\u001b[0m\u001b[0;34m:\u001b[0m\u001b[0;34m\u001b[0m\u001b[0;34m\u001b[0m\u001b[0m\n\u001b[0;32m--> 548\u001b[0;31m             \u001b[0;32mraise\u001b[0m \u001b[0mPackageNotFoundError\u001b[0m\u001b[0;34m(\u001b[0m\u001b[0mname\u001b[0m\u001b[0;34m)\u001b[0m\u001b[0;34m\u001b[0m\u001b[0;34m\u001b[0m\u001b[0m\n\u001b[0m\u001b[1;32m    549\u001b[0m \u001b[0;34m\u001b[0m\u001b[0m\n\u001b[1;32m    550\u001b[0m     \u001b[0;34m@\u001b[0m\u001b[0mclassmethod\u001b[0m\u001b[0;34m\u001b[0m\u001b[0;34m\u001b[0m\u001b[0m\n",
            "\u001b[0;31mPackageNotFoundError\u001b[0m: No package metadata was found for tiktoken",
            "",
            "\u001b[0;31m---------------------------------------------------------------------------\u001b[0;32m\nNOTE: If your import is failing due to a missing package, you can\nmanually install dependencies using either !pip or !apt.\n\nTo view examples of installing some common dependencies, click the\n\"Open Examples\" button below.\n\u001b[0;31m---------------------------------------------------------------------------\u001b[0m\n"
          ],
          "errorDetails": {
            "actions": [
              {
                "action": "open_url",
                "actionText": "Open Examples",
                "url": "/notebooks/snippets/importing_libraries.ipynb"
              }
            ]
          }
        }
      ],
      "source": [
        "from importlib.metadata import version\n",
        "\n",
        "print(\"torch version:\", version(\"torch\"))\n",
        "print(\"tiktoken version:\", version(\"tiktoken\"))"
      ]
    },
    {
      "cell_type": "markdown",
      "id": "5a42fbfd-e3c2-43c2-bc12-f5f870a0b10a",
      "metadata": {
        "id": "5a42fbfd-e3c2-43c2-bc12-f5f870a0b10a"
      },
      "source": [
        "- This chapter covers data preparation and sampling to get input data \"ready\" for the LLM"
      ]
    },
    {
      "cell_type": "markdown",
      "id": "628b2922-594d-4ff9-bd82-04f1ebdf41f5",
      "metadata": {
        "id": "628b2922-594d-4ff9-bd82-04f1ebdf41f5"
      },
      "source": [
        "<img src=\"https://sebastianraschka.com/images/LLMs-from-scratch-images/ch02_compressed/01.webp?timestamp=1\" width=\"500px\">"
      ]
    },
    {
      "cell_type": "markdown",
      "id": "2417139b-2357-44d2-bd67-23f5d7f52ae7",
      "metadata": {
        "id": "2417139b-2357-44d2-bd67-23f5d7f52ae7"
      },
      "source": [
        "## 2.1 Understanding word embeddings"
      ]
    },
    {
      "cell_type": "markdown",
      "id": "0b6816ae-e927-43a9-b4dd-e47a9b0e1cf6",
      "metadata": {
        "id": "0b6816ae-e927-43a9-b4dd-e47a9b0e1cf6"
      },
      "source": [
        "- No code in this section"
      ]
    },
    {
      "cell_type": "markdown",
      "id": "4f69dab7-a433-427a-9e5b-b981062d6296",
      "metadata": {
        "id": "4f69dab7-a433-427a-9e5b-b981062d6296"
      },
      "source": [
        "- There are many forms of embeddings; we focus on text embeddings in this book"
      ]
    },
    {
      "cell_type": "markdown",
      "id": "ba08d16f-f237-4166-bf89-0e9fe703e7b4",
      "metadata": {
        "id": "ba08d16f-f237-4166-bf89-0e9fe703e7b4"
      },
      "source": [
        "<img src=\"https://sebastianraschka.com/images/LLMs-from-scratch-images/ch02_compressed/02.webp\" width=\"500px\">"
      ]
    },
    {
      "cell_type": "markdown",
      "id": "288c4faf-b93a-4616-9276-7a4aa4b5e9ba",
      "metadata": {
        "id": "288c4faf-b93a-4616-9276-7a4aa4b5e9ba"
      },
      "source": [
        "- LLMs work with embeddings in high-dimensional spaces (i.e., thousands of dimensions)\n",
        "- Since we can't visualize such high-dimensional spaces (we humans think in 1, 2, or 3 dimensions), the figure below illustrates a 2-dimensional embedding space"
      ]
    },
    {
      "cell_type": "markdown",
      "id": "d6b80160-1f10-4aad-a85e-9c79444de9e6",
      "metadata": {
        "id": "d6b80160-1f10-4aad-a85e-9c79444de9e6"
      },
      "source": [
        "<img src=\"https://sebastianraschka.com/images/LLMs-from-scratch-images/ch02_compressed/03.webp\" width=\"300px\">"
      ]
    },
    {
      "cell_type": "markdown",
      "id": "eddbb984-8d23-40c5-bbfa-c3c379e7eec3",
      "metadata": {
        "id": "eddbb984-8d23-40c5-bbfa-c3c379e7eec3"
      },
      "source": [
        "## 2.2 Tokenizing text"
      ]
    },
    {
      "cell_type": "markdown",
      "id": "f9c90731-7dc9-4cd3-8c4a-488e33b48e80",
      "metadata": {
        "id": "f9c90731-7dc9-4cd3-8c4a-488e33b48e80"
      },
      "source": [
        "- In this section, we tokenize text, which means breaking text into smaller units, such as individual words and punctuation characters"
      ]
    },
    {
      "cell_type": "markdown",
      "id": "09872fdb-9d4e-40c4-949d-52a01a43ec4b",
      "metadata": {
        "id": "09872fdb-9d4e-40c4-949d-52a01a43ec4b"
      },
      "source": [
        "<img src=\"https://sebastianraschka.com/images/LLMs-from-scratch-images/ch02_compressed/04.webp\" width=\"300px\">"
      ]
    },
    {
      "cell_type": "markdown",
      "id": "8cceaa18-833d-46b6-b211-b20c53902805",
      "metadata": {
        "id": "8cceaa18-833d-46b6-b211-b20c53902805"
      },
      "source": [
        "- Load raw text we want to work with\n",
        "- [The Verdict by Edith Wharton](https://en.wikisource.org/wiki/The_Verdict) is a public domain short story"
      ]
    },
    {
      "cell_type": "code",
      "execution_count": 4,
      "id": "40f9d9b1-6d32-485a-825a-a95392a86d79",
      "metadata": {
        "id": "40f9d9b1-6d32-485a-825a-a95392a86d79"
      },
      "outputs": [],
      "source": [
        "import os\n",
        "import urllib.request\n",
        "\n",
        "if not os.path.exists(\"the-verdict.txt\"):\n",
        "    url = (\"https://raw.githubusercontent.com/rasbt/\"\n",
        "           \"LLMs-from-scratch/main/ch02/01_main-chapter-code/\"\n",
        "           \"the-verdict.txt\")\n",
        "    file_path = \"the-verdict.txt\"\n",
        "    urllib.request.urlretrieve(url, file_path)"
      ]
    },
    {
      "cell_type": "markdown",
      "id": "56488f2c-a2b8-49f1-aaeb-461faad08dce",
      "metadata": {
        "id": "56488f2c-a2b8-49f1-aaeb-461faad08dce"
      },
      "source": [
        "- (If you encounter an `ssl.SSLCertVerificationError` when executing the previous code cell, it might be due to using an outdated Python version; you can find [more information here on GitHub](https://github.com/rasbt/LLMs-from-scratch/pull/403))"
      ]
    },
    {
      "cell_type": "code",
      "execution_count": 5,
      "id": "8a769e87-470a-48b9-8bdb-12841b416198",
      "metadata": {
        "colab": {
          "base_uri": "https://localhost:8080/"
        },
        "id": "8a769e87-470a-48b9-8bdb-12841b416198",
        "outputId": "62308d4d-aa99-4858-d6f4-2353cdb620a3"
      },
      "outputs": [
        {
          "output_type": "stream",
          "name": "stdout",
          "text": [
            "Total number of character: 20479\n",
            "I HAD always thought Jack Gisburn rather a cheap genius--though a good fellow enough--so it was no \n"
          ]
        }
      ],
      "source": [
        "with open(\"the-verdict.txt\", \"r\", encoding=\"utf-8\") as f:\n",
        "    raw_text = f.read()\n",
        "\n",
        "print(\"Total number of character:\", len(raw_text))\n",
        "print(raw_text[:99])"
      ]
    },
    {
      "cell_type": "markdown",
      "id": "9b971a46-ac03-4368-88ae-3f20279e8f4e",
      "metadata": {
        "id": "9b971a46-ac03-4368-88ae-3f20279e8f4e"
      },
      "source": [
        "- The goal is to tokenize and embed this text for an LLM\n",
        "- Let's develop a simple tokenizer based on some simple sample text that we can then later apply to the text above\n",
        "- The following regular expression will split on whitespaces"
      ]
    },
    {
      "cell_type": "code",
      "execution_count": 6,
      "id": "737dd5b0-9dbb-4a97-9ae4-3482c8c04be7",
      "metadata": {
        "colab": {
          "base_uri": "https://localhost:8080/"
        },
        "id": "737dd5b0-9dbb-4a97-9ae4-3482c8c04be7",
        "outputId": "283a80a3-ec14-4386-8971-57c2d38004f4"
      },
      "outputs": [
        {
          "output_type": "stream",
          "name": "stdout",
          "text": [
            "['Hello,', ' ', 'world.', ' ', 'This,', ' ', 'is', ' ', 'a', ' ', 'test.']\n"
          ]
        }
      ],
      "source": [
        "import re\n",
        "\n",
        "text = \"Hello, world. This, is a test.\"\n",
        "result = re.split(r'(\\s)', text)\n",
        "\n",
        "print(result)"
      ]
    },
    {
      "cell_type": "markdown",
      "id": "a8c40c18-a9d5-4703-bf71-8261dbcc5ee3",
      "metadata": {
        "id": "a8c40c18-a9d5-4703-bf71-8261dbcc5ee3"
      },
      "source": [
        "- We don't only want to split on whitespaces but also commas and periods, so let's modify the regular expression to do that as well"
      ]
    },
    {
      "cell_type": "code",
      "execution_count": null,
      "id": "ea02489d-01f9-4247-b7dd-a0d63f62ef07",
      "metadata": {
        "id": "ea02489d-01f9-4247-b7dd-a0d63f62ef07",
        "outputId": "2d7d9d03-accc-4eb7-c5f4-02a78a35fa54"
      },
      "outputs": [
        {
          "name": "stdout",
          "output_type": "stream",
          "text": [
            "['Hello', ',', '', ' ', 'world', '.', '', ' ', 'This', ',', '', ' ', 'is', ' ', 'a', ' ', 'test', '.', '']\n"
          ]
        }
      ],
      "source": [
        "result = re.split(r'([,.]|\\s)', text)\n",
        "\n",
        "print(result)"
      ]
    },
    {
      "cell_type": "markdown",
      "id": "461d0c86-e3af-4f87-8fae-594a9ca9b6ad",
      "metadata": {
        "id": "461d0c86-e3af-4f87-8fae-594a9ca9b6ad"
      },
      "source": [
        "- As we can see, this creates empty strings, let's remove them"
      ]
    },
    {
      "cell_type": "code",
      "execution_count": null,
      "id": "4d8a6fb7-2e62-4a12-ad06-ccb04f25fed7",
      "metadata": {
        "id": "4d8a6fb7-2e62-4a12-ad06-ccb04f25fed7",
        "outputId": "ccbb37d6-6b7f-41b5-ac0d-68c4e2d48aa6"
      },
      "outputs": [
        {
          "name": "stdout",
          "output_type": "stream",
          "text": [
            "['Hello', ',', 'world', '.', 'This', ',', 'is', 'a', 'test', '.']\n"
          ]
        }
      ],
      "source": [
        "# Strip whitespace from each item and then filter out any empty strings.\n",
        "result = [item for item in result if item.strip()]\n",
        "print(result)"
      ]
    },
    {
      "cell_type": "markdown",
      "id": "250e8694-181e-496f-895d-7cb7d92b5562",
      "metadata": {
        "id": "250e8694-181e-496f-895d-7cb7d92b5562"
      },
      "source": [
        "- This looks pretty good, but let's also handle other types of punctuation, such as periods, question marks, and so on"
      ]
    },
    {
      "cell_type": "code",
      "execution_count": null,
      "id": "ed3a9467-04b4-49d9-96c5-b8042bcf8374",
      "metadata": {
        "id": "ed3a9467-04b4-49d9-96c5-b8042bcf8374",
        "outputId": "109c85c8-c1d8-44eb-83ca-6b5b6f28915a"
      },
      "outputs": [
        {
          "name": "stdout",
          "output_type": "stream",
          "text": [
            "['Hello', ',', 'world', '.', 'Is', 'this', '--', 'a', 'test', '?']\n"
          ]
        }
      ],
      "source": [
        "text = \"Hello, world. Is this-- a test?\"\n",
        "\n",
        "result = re.split(r'([,.:;?_!\"()\\']|--|\\s)', text)\n",
        "result = [item.strip() for item in result if item.strip()]\n",
        "print(result)"
      ]
    },
    {
      "cell_type": "markdown",
      "id": "5bbea70b-c030-45d9-b09d-4318164c0bb4",
      "metadata": {
        "id": "5bbea70b-c030-45d9-b09d-4318164c0bb4"
      },
      "source": [
        "- This is pretty good, and we are now ready to apply this tokenization to the raw text"
      ]
    },
    {
      "cell_type": "markdown",
      "id": "6cbe9330-b587-4262-be9f-497a84ec0e8a",
      "metadata": {
        "id": "6cbe9330-b587-4262-be9f-497a84ec0e8a"
      },
      "source": [
        "<img src=\"https://sebastianraschka.com/images/LLMs-from-scratch-images/ch02_compressed/05.webp\" width=\"350px\">"
      ]
    },
    {
      "cell_type": "code",
      "execution_count": 7,
      "id": "8c567caa-8ff5-49a8-a5cc-d365b0a78a99",
      "metadata": {
        "colab": {
          "base_uri": "https://localhost:8080/"
        },
        "id": "8c567caa-8ff5-49a8-a5cc-d365b0a78a99",
        "outputId": "6368e4c7-2158-4304-d048-c7cc41c2447f"
      },
      "outputs": [
        {
          "output_type": "stream",
          "name": "stdout",
          "text": [
            "['I', 'HAD', 'always', 'thought', 'Jack', 'Gisburn', 'rather', 'a', 'cheap', 'genius', '--', 'though', 'a', 'good', 'fellow', 'enough', '--', 'so', 'it', 'was', 'no', 'great', 'surprise', 'to', 'me', 'to', 'hear', 'that', ',', 'in']\n"
          ]
        }
      ],
      "source": [
        "preprocessed = re.split(r'([,.:;?_!\"()\\']|--|\\s)', raw_text)\n",
        "preprocessed = [item.strip() for item in preprocessed if item.strip()]\n",
        "print(preprocessed[:30])"
      ]
    },
    {
      "cell_type": "markdown",
      "id": "e2a19e1a-5105-4ddb-812a-b7d3117eab95",
      "metadata": {
        "id": "e2a19e1a-5105-4ddb-812a-b7d3117eab95"
      },
      "source": [
        "- Let's calculate the total number of tokens"
      ]
    },
    {
      "cell_type": "code",
      "execution_count": 8,
      "id": "35db7b5e-510b-4c45-995f-f5ad64a8e19c",
      "metadata": {
        "colab": {
          "base_uri": "https://localhost:8080/"
        },
        "id": "35db7b5e-510b-4c45-995f-f5ad64a8e19c",
        "outputId": "6b45b979-1102-4e37-eb25-96d91a547bed"
      },
      "outputs": [
        {
          "output_type": "stream",
          "name": "stdout",
          "text": [
            "4690\n"
          ]
        }
      ],
      "source": [
        "print(len(preprocessed))"
      ]
    },
    {
      "cell_type": "markdown",
      "id": "0b5ce8fe-3a07-4f2a-90f1-a0321ce3a231",
      "metadata": {
        "id": "0b5ce8fe-3a07-4f2a-90f1-a0321ce3a231"
      },
      "source": [
        "## 2.3 Converting tokens into token IDs"
      ]
    },
    {
      "cell_type": "markdown",
      "id": "a5204973-f414-4c0d-87b0-cfec1f06e6ff",
      "metadata": {
        "id": "a5204973-f414-4c0d-87b0-cfec1f06e6ff"
      },
      "source": [
        "- Next, we convert the text tokens into token IDs that we can process via embedding layers later"
      ]
    },
    {
      "cell_type": "markdown",
      "id": "177b041d-f739-43b8-bd81-0443ae3a7f8d",
      "metadata": {
        "id": "177b041d-f739-43b8-bd81-0443ae3a7f8d"
      },
      "source": [
        "<img src=\"https://sebastianraschka.com/images/LLMs-from-scratch-images/ch02_compressed/06.webp\" width=\"500px\">"
      ]
    },
    {
      "cell_type": "markdown",
      "id": "b5973794-7002-4202-8b12-0900cd779720",
      "metadata": {
        "id": "b5973794-7002-4202-8b12-0900cd779720"
      },
      "source": [
        "- From these tokens, we can now build a vocabulary that consists of all the unique tokens"
      ]
    },
    {
      "cell_type": "code",
      "execution_count": 9,
      "id": "7fdf0533-5ab6-42a5-83fa-a3b045de6396",
      "metadata": {
        "colab": {
          "base_uri": "https://localhost:8080/"
        },
        "id": "7fdf0533-5ab6-42a5-83fa-a3b045de6396",
        "outputId": "cf2ab4a0-f7d4-4037-c264-8d25702151c9"
      },
      "outputs": [
        {
          "output_type": "stream",
          "name": "stdout",
          "text": [
            "1130\n"
          ]
        }
      ],
      "source": [
        "all_words = sorted(set(preprocessed))\n",
        "vocab_size = len(all_words)\n",
        "\n",
        "print(vocab_size)"
      ]
    },
    {
      "cell_type": "code",
      "execution_count": 10,
      "id": "77d00d96-881f-4691-bb03-84fec2a75a26",
      "metadata": {
        "id": "77d00d96-881f-4691-bb03-84fec2a75a26"
      },
      "outputs": [],
      "source": [
        "vocab = {token:integer for integer,token in enumerate(all_words)}"
      ]
    },
    {
      "cell_type": "code",
      "source": [
        "vocab\n",
        "#type(vocab)"
      ],
      "metadata": {
        "colab": {
          "base_uri": "https://localhost:8080/"
        },
        "collapsed": true,
        "id": "z65MTsF-TAqh",
        "outputId": "8456e4b4-e6c2-414d-c015-399e36289214"
      },
      "id": "z65MTsF-TAqh",
      "execution_count": 36,
      "outputs": [
        {
          "output_type": "execute_result",
          "data": {
            "text/plain": [
              "{'!': 0,\n",
              " '\"': 1,\n",
              " \"'\": 2,\n",
              " '(': 3,\n",
              " ')': 4,\n",
              " ',': 5,\n",
              " '--': 6,\n",
              " '.': 7,\n",
              " ':': 8,\n",
              " ';': 9,\n",
              " '?': 10,\n",
              " 'A': 11,\n",
              " 'Ah': 12,\n",
              " 'Among': 13,\n",
              " 'And': 14,\n",
              " 'Are': 15,\n",
              " 'Arrt': 16,\n",
              " 'As': 17,\n",
              " 'At': 18,\n",
              " 'Be': 19,\n",
              " 'Begin': 20,\n",
              " 'Burlington': 21,\n",
              " 'But': 22,\n",
              " 'By': 23,\n",
              " 'Carlo': 24,\n",
              " 'Chicago': 25,\n",
              " 'Claude': 26,\n",
              " 'Come': 27,\n",
              " 'Croft': 28,\n",
              " 'Destroyed': 29,\n",
              " 'Devonshire': 30,\n",
              " 'Don': 31,\n",
              " 'Dubarry': 32,\n",
              " 'Emperors': 33,\n",
              " 'Florence': 34,\n",
              " 'For': 35,\n",
              " 'Gallery': 36,\n",
              " 'Gideon': 37,\n",
              " 'Gisburn': 38,\n",
              " 'Gisburns': 39,\n",
              " 'Grafton': 40,\n",
              " 'Greek': 41,\n",
              " 'Grindle': 42,\n",
              " 'Grindles': 43,\n",
              " 'HAD': 44,\n",
              " 'Had': 45,\n",
              " 'Hang': 46,\n",
              " 'Has': 47,\n",
              " 'He': 48,\n",
              " 'Her': 49,\n",
              " 'Hermia': 50,\n",
              " 'His': 51,\n",
              " 'How': 52,\n",
              " 'I': 53,\n",
              " 'If': 54,\n",
              " 'In': 55,\n",
              " 'It': 56,\n",
              " 'Jack': 57,\n",
              " 'Jove': 58,\n",
              " 'Just': 59,\n",
              " 'Lord': 60,\n",
              " 'Made': 61,\n",
              " 'Miss': 62,\n",
              " 'Money': 63,\n",
              " 'Monte': 64,\n",
              " 'Moon-dancers': 65,\n",
              " 'Mr': 66,\n",
              " 'Mrs': 67,\n",
              " 'My': 68,\n",
              " 'Never': 69,\n",
              " 'No': 70,\n",
              " 'Now': 71,\n",
              " 'Nutley': 72,\n",
              " 'Of': 73,\n",
              " 'Oh': 74,\n",
              " 'On': 75,\n",
              " 'Once': 76,\n",
              " 'Only': 77,\n",
              " 'Or': 78,\n",
              " 'Perhaps': 79,\n",
              " 'Poor': 80,\n",
              " 'Professional': 81,\n",
              " 'Renaissance': 82,\n",
              " 'Rickham': 83,\n",
              " 'Riviera': 84,\n",
              " 'Rome': 85,\n",
              " 'Russian': 86,\n",
              " 'Sevres': 87,\n",
              " 'She': 88,\n",
              " 'Stroud': 89,\n",
              " 'Strouds': 90,\n",
              " 'Suddenly': 91,\n",
              " 'That': 92,\n",
              " 'The': 93,\n",
              " 'Then': 94,\n",
              " 'There': 95,\n",
              " 'They': 96,\n",
              " 'This': 97,\n",
              " 'Those': 98,\n",
              " 'Though': 99,\n",
              " 'Thwing': 100,\n",
              " 'Thwings': 101,\n",
              " 'To': 102,\n",
              " 'Usually': 103,\n",
              " 'Venetian': 104,\n",
              " 'Victor': 105,\n",
              " 'Was': 106,\n",
              " 'We': 107,\n",
              " 'Well': 108,\n",
              " 'What': 109,\n",
              " 'When': 110,\n",
              " 'Why': 111,\n",
              " 'Yes': 112,\n",
              " 'You': 113,\n",
              " '_': 114,\n",
              " 'a': 115,\n",
              " 'abdication': 116,\n",
              " 'able': 117,\n",
              " 'about': 118,\n",
              " 'above': 119,\n",
              " 'abruptly': 120,\n",
              " 'absolute': 121,\n",
              " 'absorbed': 122,\n",
              " 'absurdity': 123,\n",
              " 'academic': 124,\n",
              " 'accuse': 125,\n",
              " 'accustomed': 126,\n",
              " 'across': 127,\n",
              " 'activity': 128,\n",
              " 'add': 129,\n",
              " 'added': 130,\n",
              " 'admirers': 131,\n",
              " 'adopted': 132,\n",
              " 'adulation': 133,\n",
              " 'advance': 134,\n",
              " 'aesthetic': 135,\n",
              " 'affect': 136,\n",
              " 'afraid': 137,\n",
              " 'after': 138,\n",
              " 'afterward': 139,\n",
              " 'again': 140,\n",
              " 'ago': 141,\n",
              " 'ah': 142,\n",
              " 'air': 143,\n",
              " 'alive': 144,\n",
              " 'all': 145,\n",
              " 'almost': 146,\n",
              " 'alone': 147,\n",
              " 'along': 148,\n",
              " 'always': 149,\n",
              " 'am': 150,\n",
              " 'amazement': 151,\n",
              " 'amid': 152,\n",
              " 'among': 153,\n",
              " 'amplest': 154,\n",
              " 'amusing': 155,\n",
              " 'an': 156,\n",
              " 'and': 157,\n",
              " 'another': 158,\n",
              " 'answer': 159,\n",
              " 'answered': 160,\n",
              " 'any': 161,\n",
              " 'anything': 162,\n",
              " 'anywhere': 163,\n",
              " 'apparent': 164,\n",
              " 'apparently': 165,\n",
              " 'appearance': 166,\n",
              " 'appeared': 167,\n",
              " 'appointed': 168,\n",
              " 'are': 169,\n",
              " 'arm': 170,\n",
              " 'arm-chair': 171,\n",
              " 'arm-chairs': 172,\n",
              " 'arms': 173,\n",
              " 'art': 174,\n",
              " 'articles': 175,\n",
              " 'artist': 176,\n",
              " 'as': 177,\n",
              " 'aside': 178,\n",
              " 'asked': 179,\n",
              " 'at': 180,\n",
              " 'atmosphere': 181,\n",
              " 'atom': 182,\n",
              " 'attack': 183,\n",
              " 'attention': 184,\n",
              " 'attitude': 185,\n",
              " 'audacities': 186,\n",
              " 'away': 187,\n",
              " 'awful': 188,\n",
              " 'axioms': 189,\n",
              " 'azaleas': 190,\n",
              " 'back': 191,\n",
              " 'background': 192,\n",
              " 'balance': 193,\n",
              " 'balancing': 194,\n",
              " 'balustraded': 195,\n",
              " 'basking': 196,\n",
              " 'bath-rooms': 197,\n",
              " 'be': 198,\n",
              " 'beaming': 199,\n",
              " 'bean-stalk': 200,\n",
              " 'bear': 201,\n",
              " 'beard': 202,\n",
              " 'beauty': 203,\n",
              " 'became': 204,\n",
              " 'because': 205,\n",
              " 'becoming': 206,\n",
              " 'bed': 207,\n",
              " 'been': 208,\n",
              " 'before': 209,\n",
              " 'began': 210,\n",
              " 'begun': 211,\n",
              " 'behind': 212,\n",
              " 'being': 213,\n",
              " 'believed': 214,\n",
              " 'beneath': 215,\n",
              " 'bespoke': 216,\n",
              " 'better': 217,\n",
              " 'between': 218,\n",
              " 'big': 219,\n",
              " 'bits': 220,\n",
              " 'bitterness': 221,\n",
              " 'blocked': 222,\n",
              " 'born': 223,\n",
              " 'borne': 224,\n",
              " 'boudoir': 225,\n",
              " 'bravura': 226,\n",
              " 'break': 227,\n",
              " 'breaking': 228,\n",
              " 'breathing': 229,\n",
              " 'bric-a-brac': 230,\n",
              " 'briefly': 231,\n",
              " 'brings': 232,\n",
              " 'bronzes': 233,\n",
              " 'brought': 234,\n",
              " 'brown': 235,\n",
              " 'brush': 236,\n",
              " 'bull': 237,\n",
              " 'business': 238,\n",
              " 'but': 239,\n",
              " 'buying': 240,\n",
              " 'by': 241,\n",
              " 'called': 242,\n",
              " 'came': 243,\n",
              " 'can': 244,\n",
              " 'canvas': 245,\n",
              " 'canvases': 246,\n",
              " 'cards': 247,\n",
              " 'care': 248,\n",
              " 'career': 249,\n",
              " 'caught': 250,\n",
              " 'central': 251,\n",
              " 'chair': 252,\n",
              " 'chap': 253,\n",
              " 'characteristic': 254,\n",
              " 'charming': 255,\n",
              " 'cheap': 256,\n",
              " 'check': 257,\n",
              " 'cheeks': 258,\n",
              " 'chest': 259,\n",
              " 'chimney-piece': 260,\n",
              " 'chucked': 261,\n",
              " 'cigar': 262,\n",
              " 'cigarette': 263,\n",
              " 'cigars': 264,\n",
              " 'circulation': 265,\n",
              " 'circumstance': 266,\n",
              " 'circus-clown': 267,\n",
              " 'claimed': 268,\n",
              " 'clasping': 269,\n",
              " 'clear': 270,\n",
              " 'cleverer': 271,\n",
              " 'close': 272,\n",
              " 'clue': 273,\n",
              " 'coat': 274,\n",
              " 'collapsed': 275,\n",
              " 'colour': 276,\n",
              " 'come': 277,\n",
              " 'comfortable': 278,\n",
              " 'coming': 279,\n",
              " 'companion': 280,\n",
              " 'compared': 281,\n",
              " 'complex': 282,\n",
              " 'confident': 283,\n",
              " 'congesting': 284,\n",
              " 'conjugal': 285,\n",
              " 'constraint': 286,\n",
              " 'consummate': 287,\n",
              " 'contended': 288,\n",
              " 'continued': 289,\n",
              " 'corner': 290,\n",
              " 'corrected': 291,\n",
              " 'could': 292,\n",
              " 'couldn': 293,\n",
              " 'count': 294,\n",
              " 'countenance': 295,\n",
              " 'couple': 296,\n",
              " 'course': 297,\n",
              " 'covered': 298,\n",
              " 'craft': 299,\n",
              " 'cried': 300,\n",
              " 'crossed': 301,\n",
              " 'crowned': 302,\n",
              " 'crumbled': 303,\n",
              " 'cry': 304,\n",
              " 'cured': 305,\n",
              " 'curiosity': 306,\n",
              " 'curious': 307,\n",
              " 'current': 308,\n",
              " 'curtains': 309,\n",
              " 'd': 310,\n",
              " 'dabble': 311,\n",
              " 'damask': 312,\n",
              " 'dark': 313,\n",
              " 'dashed': 314,\n",
              " 'day': 315,\n",
              " 'days': 316,\n",
              " 'dead': 317,\n",
              " 'deadening': 318,\n",
              " 'dear': 319,\n",
              " 'deep': 320,\n",
              " 'deerhound': 321,\n",
              " 'degree': 322,\n",
              " 'delicate': 323,\n",
              " 'demand': 324,\n",
              " 'denied': 325,\n",
              " 'deploring': 326,\n",
              " 'deprecating': 327,\n",
              " 'deprecatingly': 328,\n",
              " 'desire': 329,\n",
              " 'destroyed': 330,\n",
              " 'destruction': 331,\n",
              " 'desultory': 332,\n",
              " 'detail': 333,\n",
              " 'diagnosis': 334,\n",
              " 'did': 335,\n",
              " 'didn': 336,\n",
              " 'died': 337,\n",
              " 'dim': 338,\n",
              " 'dimmest': 339,\n",
              " 'dingy': 340,\n",
              " 'dining-room': 341,\n",
              " 'disarming': 342,\n",
              " 'discovery': 343,\n",
              " 'discrimination': 344,\n",
              " 'discussion': 345,\n",
              " 'disdain': 346,\n",
              " 'disdained': 347,\n",
              " 'disease': 348,\n",
              " 'disguised': 349,\n",
              " 'display': 350,\n",
              " 'dissatisfied': 351,\n",
              " 'distinguished': 352,\n",
              " 'distract': 353,\n",
              " 'divert': 354,\n",
              " 'do': 355,\n",
              " 'doesn': 356,\n",
              " 'doing': 357,\n",
              " 'domestic': 358,\n",
              " 'don': 359,\n",
              " 'done': 360,\n",
              " 'donkey': 361,\n",
              " 'down': 362,\n",
              " 'dozen': 363,\n",
              " 'dragged': 364,\n",
              " 'drawing-room': 365,\n",
              " 'drawing-rooms': 366,\n",
              " 'drawn': 367,\n",
              " 'dress-closets': 368,\n",
              " 'drew': 369,\n",
              " 'dropped': 370,\n",
              " 'each': 371,\n",
              " 'earth': 372,\n",
              " 'ease': 373,\n",
              " 'easel': 374,\n",
              " 'easy': 375,\n",
              " 'echoed': 376,\n",
              " 'economy': 377,\n",
              " 'effect': 378,\n",
              " 'effects': 379,\n",
              " 'efforts': 380,\n",
              " 'egregious': 381,\n",
              " 'eighteenth-century': 382,\n",
              " 'elbow': 383,\n",
              " 'elegant': 384,\n",
              " 'else': 385,\n",
              " 'embarrassed': 386,\n",
              " 'enabled': 387,\n",
              " 'end': 388,\n",
              " 'endless': 389,\n",
              " 'enjoy': 390,\n",
              " 'enlightenment': 391,\n",
              " 'enough': 392,\n",
              " 'ensuing': 393,\n",
              " 'equally': 394,\n",
              " 'equanimity': 395,\n",
              " 'escape': 396,\n",
              " 'established': 397,\n",
              " 'etching': 398,\n",
              " 'even': 399,\n",
              " 'event': 400,\n",
              " 'ever': 401,\n",
              " 'everlasting': 402,\n",
              " 'every': 403,\n",
              " 'exasperated': 404,\n",
              " 'except': 405,\n",
              " 'excuse': 406,\n",
              " 'excusing': 407,\n",
              " 'existed': 408,\n",
              " 'expected': 409,\n",
              " 'exquisite': 410,\n",
              " 'exquisitely': 411,\n",
              " 'extenuation': 412,\n",
              " 'exterminating': 413,\n",
              " 'extracting': 414,\n",
              " 'eye': 415,\n",
              " 'eyebrows': 416,\n",
              " 'eyes': 417,\n",
              " 'face': 418,\n",
              " 'faces': 419,\n",
              " 'fact': 420,\n",
              " 'faded': 421,\n",
              " 'failed': 422,\n",
              " 'failure': 423,\n",
              " 'fair': 424,\n",
              " 'faith': 425,\n",
              " 'false': 426,\n",
              " 'familiar': 427,\n",
              " 'famille-verte': 428,\n",
              " 'fancy': 429,\n",
              " 'fashionable': 430,\n",
              " 'fate': 431,\n",
              " 'feather': 432,\n",
              " 'feet': 433,\n",
              " 'fell': 434,\n",
              " 'fellow': 435,\n",
              " 'felt': 436,\n",
              " 'few': 437,\n",
              " 'fewer': 438,\n",
              " 'finality': 439,\n",
              " 'find': 440,\n",
              " 'fingers': 441,\n",
              " 'first': 442,\n",
              " 'fit': 443,\n",
              " 'fitting': 444,\n",
              " 'five': 445,\n",
              " 'flash': 446,\n",
              " 'flashed': 447,\n",
              " 'florid': 448,\n",
              " 'flowers': 449,\n",
              " 'fluently': 450,\n",
              " 'flung': 451,\n",
              " 'follow': 452,\n",
              " 'followed': 453,\n",
              " 'fond': 454,\n",
              " 'footstep': 455,\n",
              " 'for': 456,\n",
              " 'forced': 457,\n",
              " 'forcing': 458,\n",
              " 'forehead': 459,\n",
              " 'foreign': 460,\n",
              " 'foreseen': 461,\n",
              " 'forgive': 462,\n",
              " 'forgotten': 463,\n",
              " 'form': 464,\n",
              " 'formed': 465,\n",
              " 'forming': 466,\n",
              " 'forward': 467,\n",
              " 'fostered': 468,\n",
              " 'found': 469,\n",
              " 'foundations': 470,\n",
              " 'fragment': 471,\n",
              " 'fragments': 472,\n",
              " 'frame': 473,\n",
              " 'frames': 474,\n",
              " 'frequently': 475,\n",
              " 'friend': 476,\n",
              " 'from': 477,\n",
              " 'full': 478,\n",
              " 'fullest': 479,\n",
              " 'furiously': 480,\n",
              " 'furrowed': 481,\n",
              " 'garlanded': 482,\n",
              " 'garlands': 483,\n",
              " 'gave': 484,\n",
              " 'genial': 485,\n",
              " 'genius': 486,\n",
              " 'gesture': 487,\n",
              " 'get': 488,\n",
              " 'getting': 489,\n",
              " 'give': 490,\n",
              " 'given': 491,\n",
              " 'glad': 492,\n",
              " 'glanced': 493,\n",
              " 'glimpse': 494,\n",
              " 'gloried': 495,\n",
              " 'glory': 496,\n",
              " 'go': 497,\n",
              " 'going': 498,\n",
              " 'gone': 499,\n",
              " 'good': 500,\n",
              " 'good-breeding': 501,\n",
              " 'good-humoured': 502,\n",
              " 'got': 503,\n",
              " 'grace': 504,\n",
              " 'gradually': 505,\n",
              " 'gray': 506,\n",
              " 'grayish': 507,\n",
              " 'great': 508,\n",
              " 'greatest': 509,\n",
              " 'greatness': 510,\n",
              " 'grew': 511,\n",
              " 'groping': 512,\n",
              " 'growing': 513,\n",
              " 'had': 514,\n",
              " 'hadn': 515,\n",
              " 'hair': 516,\n",
              " 'half': 517,\n",
              " 'half-light': 518,\n",
              " 'half-mechanically': 519,\n",
              " 'hall': 520,\n",
              " 'hand': 521,\n",
              " 'hands': 522,\n",
              " 'handsome': 523,\n",
              " 'hanging': 524,\n",
              " 'happen': 525,\n",
              " 'happened': 526,\n",
              " 'hard': 527,\n",
              " 'hardly': 528,\n",
              " 'has': 529,\n",
              " 'have': 530,\n",
              " 'haven': 531,\n",
              " 'having': 532,\n",
              " 'he': 533,\n",
              " 'head': 534,\n",
              " 'hear': 535,\n",
              " 'heard': 536,\n",
              " 'heart': 537,\n",
              " 'height': 538,\n",
              " 'her': 539,\n",
              " 'here': 540,\n",
              " 'hermit': 541,\n",
              " 'herself': 542,\n",
              " 'hesitations': 543,\n",
              " 'hide': 544,\n",
              " 'high': 545,\n",
              " 'him': 546,\n",
              " 'himself': 547,\n",
              " 'hint': 548,\n",
              " 'his': 549,\n",
              " 'history': 550,\n",
              " 'holding': 551,\n",
              " 'home': 552,\n",
              " 'honour': 553,\n",
              " 'hooded': 554,\n",
              " 'hostess': 555,\n",
              " 'hot-house': 556,\n",
              " 'hour': 557,\n",
              " 'hours': 558,\n",
              " 'house': 559,\n",
              " 'how': 560,\n",
              " 'hung': 561,\n",
              " 'husband': 562,\n",
              " 'idea': 563,\n",
              " 'idle': 564,\n",
              " 'idling': 565,\n",
              " 'if': 566,\n",
              " 'immediately': 567,\n",
              " 'in': 568,\n",
              " 'incense': 569,\n",
              " 'indifferent': 570,\n",
              " 'inevitable': 571,\n",
              " 'inevitably': 572,\n",
              " 'inflexible': 573,\n",
              " 'insensible': 574,\n",
              " 'insignificant': 575,\n",
              " 'instinctively': 576,\n",
              " 'instructive': 577,\n",
              " 'interesting': 578,\n",
              " 'into': 579,\n",
              " 'ironic': 580,\n",
              " 'irony': 581,\n",
              " 'irrelevance': 582,\n",
              " 'irrevocable': 583,\n",
              " 'is': 584,\n",
              " 'it': 585,\n",
              " 'its': 586,\n",
              " 'itself': 587,\n",
              " 'jardiniere': 588,\n",
              " 'jealousy': 589,\n",
              " 'just': 590,\n",
              " 'keep': 591,\n",
              " 'kept': 592,\n",
              " 'kind': 593,\n",
              " 'knees': 594,\n",
              " 'knew': 595,\n",
              " 'know': 596,\n",
              " 'known': 597,\n",
              " 'laid': 598,\n",
              " 'lair': 599,\n",
              " 'landing': 600,\n",
              " 'language': 601,\n",
              " 'last': 602,\n",
              " 'late': 603,\n",
              " 'later': 604,\n",
              " 'latter': 605,\n",
              " 'laugh': 606,\n",
              " 'laughed': 607,\n",
              " 'lay': 608,\n",
              " 'leading': 609,\n",
              " 'lean': 610,\n",
              " 'learned': 611,\n",
              " 'least': 612,\n",
              " 'leathery': 613,\n",
              " 'leave': 614,\n",
              " 'led': 615,\n",
              " 'left': 616,\n",
              " 'leisure': 617,\n",
              " 'lends': 618,\n",
              " 'lent': 619,\n",
              " 'let': 620,\n",
              " 'lies': 621,\n",
              " 'life': 622,\n",
              " 'life-likeness': 623,\n",
              " 'lift': 624,\n",
              " 'lifted': 625,\n",
              " 'light': 626,\n",
              " 'lightly': 627,\n",
              " 'like': 628,\n",
              " 'liked': 629,\n",
              " 'line': 630,\n",
              " 'lines': 631,\n",
              " 'lingered': 632,\n",
              " 'lips': 633,\n",
              " 'lit': 634,\n",
              " 'little': 635,\n",
              " 'live': 636,\n",
              " 'll': 637,\n",
              " 'loathing': 638,\n",
              " 'long': 639,\n",
              " 'longed': 640,\n",
              " 'longer': 641,\n",
              " 'look': 642,\n",
              " 'looked': 643,\n",
              " 'looking': 644,\n",
              " 'lose': 645,\n",
              " 'loss': 646,\n",
              " 'lounging': 647,\n",
              " 'lovely': 648,\n",
              " 'lucky': 649,\n",
              " 'lump': 650,\n",
              " 'luncheon-table': 651,\n",
              " 'luxury': 652,\n",
              " 'lying': 653,\n",
              " 'made': 654,\n",
              " 'make': 655,\n",
              " 'man': 656,\n",
              " 'manage': 657,\n",
              " 'managed': 658,\n",
              " 'mantel-piece': 659,\n",
              " 'marble': 660,\n",
              " 'married': 661,\n",
              " 'may': 662,\n",
              " 'me': 663,\n",
              " 'meant': 664,\n",
              " 'mediocrity': 665,\n",
              " 'medium': 666,\n",
              " 'mentioned': 667,\n",
              " 'mere': 668,\n",
              " 'merely': 669,\n",
              " 'met': 670,\n",
              " 'might': 671,\n",
              " 'mighty': 672,\n",
              " 'millionaire': 673,\n",
              " 'mine': 674,\n",
              " 'minute': 675,\n",
              " 'minutes': 676,\n",
              " 'mirrors': 677,\n",
              " 'modest': 678,\n",
              " 'modesty': 679,\n",
              " 'moment': 680,\n",
              " 'money': 681,\n",
              " 'monumental': 682,\n",
              " 'mood': 683,\n",
              " 'morbidly': 684,\n",
              " 'more': 685,\n",
              " 'most': 686,\n",
              " 'mourn': 687,\n",
              " 'mourned': 688,\n",
              " 'moustache': 689,\n",
              " 'moved': 690,\n",
              " 'much': 691,\n",
              " 'muddling': 692,\n",
              " 'multiplied': 693,\n",
              " 'murmur': 694,\n",
              " 'muscles': 695,\n",
              " 'must': 696,\n",
              " 'my': 697,\n",
              " 'myself': 698,\n",
              " 'mysterious': 699,\n",
              " 'naive': 700,\n",
              " 'near': 701,\n",
              " 'nearly': 702,\n",
              " 'negatived': 703,\n",
              " 'nervous': 704,\n",
              " 'nervousness': 705,\n",
              " 'neutral': 706,\n",
              " 'never': 707,\n",
              " 'next': 708,\n",
              " 'no': 709,\n",
              " 'none': 710,\n",
              " 'not': 711,\n",
              " 'note': 712,\n",
              " 'nothing': 713,\n",
              " 'now': 714,\n",
              " 'nymphs': 715,\n",
              " 'oak': 716,\n",
              " 'obituary': 717,\n",
              " 'object': 718,\n",
              " 'objects': 719,\n",
              " 'occurred': 720,\n",
              " 'oddly': 721,\n",
              " 'of': 722,\n",
              " 'off': 723,\n",
              " 'often': 724,\n",
              " 'oh': 725,\n",
              " 'old': 726,\n",
              " 'on': 727,\n",
              " 'once': 728,\n",
              " 'one': 729,\n",
              " 'ones': 730,\n",
              " 'only': 731,\n",
              " 'onto': 732,\n",
              " 'open': 733,\n",
              " 'or': 734,\n",
              " 'other': 735,\n",
              " 'our': 736,\n",
              " 'ourselves': 737,\n",
              " 'out': 738,\n",
              " 'outline': 739,\n",
              " 'oval': 740,\n",
              " 'over': 741,\n",
              " 'own': 742,\n",
              " 'packed': 743,\n",
              " 'paid': 744,\n",
              " 'paint': 745,\n",
              " 'painted': 746,\n",
              " 'painter': 747,\n",
              " 'painting': 748,\n",
              " 'pale': 749,\n",
              " 'paled': 750,\n",
              " 'palm-trees': 751,\n",
              " 'panel': 752,\n",
              " 'panelling': 753,\n",
              " 'pardonable': 754,\n",
              " 'pardoned': 755,\n",
              " 'part': 756,\n",
              " 'passages': 757,\n",
              " 'passing': 758,\n",
              " 'past': 759,\n",
              " 'pastels': 760,\n",
              " 'pathos': 761,\n",
              " 'patient': 762,\n",
              " 'people': 763,\n",
              " 'perceptible': 764,\n",
              " 'perfect': 765,\n",
              " 'persistence': 766,\n",
              " 'persuasively': 767,\n",
              " 'phrase': 768,\n",
              " 'picture': 769,\n",
              " 'pictures': 770,\n",
              " 'pines': 771,\n",
              " 'pink': 772,\n",
              " 'place': 773,\n",
              " 'placed': 774,\n",
              " 'plain': 775,\n",
              " 'platitudes': 776,\n",
              " 'pleased': 777,\n",
              " 'pockets': 778,\n",
              " 'point': 779,\n",
              " 'poised': 780,\n",
              " 'poor': 781,\n",
              " 'portrait': 782,\n",
              " 'posing': 783,\n",
              " 'possessed': 784,\n",
              " 'poverty': 785,\n",
              " 'predicted': 786,\n",
              " 'preliminary': 787,\n",
              " 'presenting': 788,\n",
              " 'prestidigitation': 789,\n",
              " 'pretty': 790,\n",
              " 'previous': 791,\n",
              " 'price': 792,\n",
              " 'pride': 793,\n",
              " 'princely': 794,\n",
              " 'prism': 795,\n",
              " 'problem': 796,\n",
              " 'proclaiming': 797,\n",
              " 'prodigious': 798,\n",
              " 'profusion': 799,\n",
              " 'protest': 800,\n",
              " 'prove': 801,\n",
              " 'public': 802,\n",
              " 'purblind': 803,\n",
              " 'purely': 804,\n",
              " 'pushed': 805,\n",
              " 'put': 806,\n",
              " 'qualities': 807,\n",
              " 'quality': 808,\n",
              " 'queerly': 809,\n",
              " 'question': 810,\n",
              " 'quickly': 811,\n",
              " 'quietly': 812,\n",
              " 'quite': 813,\n",
              " 'quote': 814,\n",
              " 'rain': 815,\n",
              " 'raised': 816,\n",
              " 'random': 817,\n",
              " 'rather': 818,\n",
              " 're': 819,\n",
              " 'real': 820,\n",
              " 'really': 821,\n",
              " 'reared': 822,\n",
              " 'reason': 823,\n",
              " 'reassurance': 824,\n",
              " 'recovering': 825,\n",
              " 'recreated': 826,\n",
              " 'reflected': 827,\n",
              " 'reflection': 828,\n",
              " 'regrets': 829,\n",
              " 'relatively': 830,\n",
              " 'remained': 831,\n",
              " 'remember': 832,\n",
              " 'reminded': 833,\n",
              " 'repeating': 834,\n",
              " 'represented': 835,\n",
              " 'reproduction': 836,\n",
              " 'resented': 837,\n",
              " 'resolve': 838,\n",
              " 'resources': 839,\n",
              " 'rest': 840,\n",
              " 'rich': 841,\n",
              " 'ridiculous': 842,\n",
              " 'robbed': 843,\n",
              " 'romantic': 844,\n",
              " 'room': 845,\n",
              " 'rose': 846,\n",
              " 'rs': 847,\n",
              " 'rule': 848,\n",
              " 'run': 849,\n",
              " 's': 850,\n",
              " 'said': 851,\n",
              " 'same': 852,\n",
              " 'satisfaction': 853,\n",
              " 'savour': 854,\n",
              " 'saw': 855,\n",
              " 'say': 856,\n",
              " 'saying': 857,\n",
              " 'says': 858,\n",
              " 'scorn': 859,\n",
              " 'scornful': 860,\n",
              " 'secret': 861,\n",
              " 'see': 862,\n",
              " 'seemed': 863,\n",
              " 'seen': 864,\n",
              " 'self-confident': 865,\n",
              " 'send': 866,\n",
              " 'sensation': 867,\n",
              " 'sensitive': 868,\n",
              " 'sent': 869,\n",
              " 'serious': 870,\n",
              " 'set': 871,\n",
              " 'sex': 872,\n",
              " 'shade': 873,\n",
              " 'shaking': 874,\n",
              " 'shall': 875,\n",
              " 'she': 876,\n",
              " 'shirked': 877,\n",
              " 'short': 878,\n",
              " 'should': 879,\n",
              " 'shoulder': 880,\n",
              " 'shoulders': 881,\n",
              " 'show': 882,\n",
              " 'showed': 883,\n",
              " 'showy': 884,\n",
              " 'shrug': 885,\n",
              " 'shrugged': 886,\n",
              " 'sight': 887,\n",
              " 'sign': 888,\n",
              " 'silent': 889,\n",
              " 'silver': 890,\n",
              " 'similar': 891,\n",
              " 'simpleton': 892,\n",
              " 'simplifications': 893,\n",
              " 'simply': 894,\n",
              " 'since': 895,\n",
              " 'single': 896,\n",
              " 'sitter': 897,\n",
              " 'sitters': 898,\n",
              " 'sketch': 899,\n",
              " 'skill': 900,\n",
              " 'slight': 901,\n",
              " 'slightly': 902,\n",
              " 'slowly': 903,\n",
              " 'small': 904,\n",
              " 'smile': 905,\n",
              " 'smiling': 906,\n",
              " 'sneer': 907,\n",
              " 'so': 908,\n",
              " 'solace': 909,\n",
              " 'some': 910,\n",
              " 'somebody': 911,\n",
              " 'something': 912,\n",
              " 'spacious': 913,\n",
              " 'spaniel': 914,\n",
              " 'speaking-tubes': 915,\n",
              " 'speculations': 916,\n",
              " 'spite': 917,\n",
              " 'splash': 918,\n",
              " 'square': 919,\n",
              " 'stairs': 920,\n",
              " 'stammer': 921,\n",
              " 'stand': 922,\n",
              " 'standing': 923,\n",
              " 'started': 924,\n",
              " 'stay': 925,\n",
              " 'still': 926,\n",
              " 'stocked': 927,\n",
              " 'stood': 928,\n",
              " 'stopped': 929,\n",
              " 'stopping': 930,\n",
              " 'straddling': 931,\n",
              " 'straight': 932,\n",
              " 'strain': 933,\n",
              " 'straining': 934,\n",
              " 'strange': 935,\n",
              " 'straw': 936,\n",
              " 'stream': 937,\n",
              " 'stroke': 938,\n",
              " 'strokes': 939,\n",
              " 'strolled': 940,\n",
              " 'strongest': 941,\n",
              " 'strongly': 942,\n",
              " 'struck': 943,\n",
              " 'studio': 944,\n",
              " 'stuff': 945,\n",
              " 'subject': 946,\n",
              " 'substantial': 947,\n",
              " 'suburban': 948,\n",
              " 'such': 949,\n",
              " 'suddenly': 950,\n",
              " 'suffered': 951,\n",
              " 'sugar': 952,\n",
              " 'suggested': 953,\n",
              " 'sunburn': 954,\n",
              " 'sunburnt': 955,\n",
              " 'sunlit': 956,\n",
              " 'superb': 957,\n",
              " 'sure': 958,\n",
              " 'surest': 959,\n",
              " 'surface': 960,\n",
              " 'surprise': 961,\n",
              " 'surprised': 962,\n",
              " 'surrounded': 963,\n",
              " 'suspected': 964,\n",
              " 'sweetly': 965,\n",
              " 'sweetness': 966,\n",
              " 'swelling': 967,\n",
              " 'swept': 968,\n",
              " 'swum': 969,\n",
              " 't': 970,\n",
              " 'table': 971,\n",
              " 'take': 972,\n",
              " 'taken': 973,\n",
              " 'talking': 974,\n",
              " 'tea': 975,\n",
              " 'tears': 976,\n",
              " 'technicalities': 977,\n",
              " 'technique': 978,\n",
              " 'tell': 979,\n",
              " 'tells': 980,\n",
              " 'tempting': 981,\n",
              " 'terra-cotta': 982,\n",
              " 'terrace': 983,\n",
              " 'terraces': 984,\n",
              " 'terribly': 985,\n",
              " 'than': 986,\n",
              " 'that': 987,\n",
              " 'the': 988,\n",
              " 'their': 989,\n",
              " 'them': 990,\n",
              " 'then': 991,\n",
              " 'there': 992,\n",
              " 'therefore': 993,\n",
              " 'they': 994,\n",
              " 'thin': 995,\n",
              " 'thing': 996,\n",
              " 'things': 997,\n",
              " 'think': 998,\n",
              " 'this': 999,\n",
              " ...}"
            ]
          },
          "metadata": {},
          "execution_count": 36
        }
      ]
    },
    {
      "cell_type": "code",
      "source": [
        "enumerate(vocab.items())\n",
        "#type(vocab.items())"
      ],
      "metadata": {
        "colab": {
          "base_uri": "https://localhost:8080/"
        },
        "id": "ISwKlxhUUhls",
        "outputId": "87b19150-b0ae-434e-97ba-0dcbf81b9622"
      },
      "id": "ISwKlxhUUhls",
      "execution_count": 38,
      "outputs": [
        {
          "output_type": "execute_result",
          "data": {
            "text/plain": [
              "<enumerate at 0x78371ece1dc0>"
            ]
          },
          "metadata": {},
          "execution_count": 38
        }
      ]
    },
    {
      "cell_type": "markdown",
      "id": "75bd1f81-3a8f-4dd9-9dd6-e75f32dacbe3",
      "metadata": {
        "id": "75bd1f81-3a8f-4dd9-9dd6-e75f32dacbe3"
      },
      "source": [
        "- Below are the first 50 entries in this vocabulary:"
      ]
    },
    {
      "cell_type": "code",
      "execution_count": 32,
      "id": "e1c5de4a-aa4e-4aec-b532-10bb364039d6",
      "metadata": {
        "colab": {
          "base_uri": "https://localhost:8080/"
        },
        "collapsed": true,
        "id": "e1c5de4a-aa4e-4aec-b532-10bb364039d6",
        "outputId": "8e17aff2-5398-451b-b981-6e5df19c719b"
      },
      "outputs": [
        {
          "output_type": "stream",
          "name": "stdout",
          "text": [
            "('!', 0)\n",
            "('\"', 1)\n",
            "(\"'\", 2)\n",
            "('(', 3)\n",
            "(')', 4)\n",
            "(',', 5)\n",
            "('--', 6)\n",
            "('.', 7)\n",
            "(':', 8)\n",
            "(';', 9)\n",
            "('?', 10)\n",
            "('A', 11)\n",
            "('Ah', 12)\n",
            "('Among', 13)\n",
            "('And', 14)\n",
            "('Are', 15)\n",
            "('Arrt', 16)\n",
            "('As', 17)\n",
            "('At', 18)\n",
            "('Be', 19)\n",
            "('Begin', 20)\n",
            "('Burlington', 21)\n",
            "('But', 22)\n",
            "('By', 23)\n",
            "('Carlo', 24)\n",
            "('Chicago', 25)\n",
            "('Claude', 26)\n",
            "('Come', 27)\n",
            "('Croft', 28)\n",
            "('Destroyed', 29)\n",
            "('Devonshire', 30)\n",
            "('Don', 31)\n",
            "('Dubarry', 32)\n",
            "('Emperors', 33)\n",
            "('Florence', 34)\n",
            "('For', 35)\n",
            "('Gallery', 36)\n",
            "('Gideon', 37)\n",
            "('Gisburn', 38)\n",
            "('Gisburns', 39)\n",
            "('Grafton', 40)\n",
            "('Greek', 41)\n",
            "('Grindle', 42)\n",
            "('Grindles', 43)\n",
            "('HAD', 44)\n",
            "('Had', 45)\n",
            "('Hang', 46)\n",
            "('Has', 47)\n",
            "('He', 48)\n",
            "('Her', 49)\n",
            "('Hermia', 50)\n"
          ]
        }
      ],
      "source": [
        "for i, item in enumerate(vocab.items()):\n",
        "    print(item)\n",
        "    if i >= 50:\n",
        "        break"
      ]
    },
    {
      "cell_type": "markdown",
      "id": "3b1dc314-351b-476a-9459-0ec9ddc29b19",
      "metadata": {
        "id": "3b1dc314-351b-476a-9459-0ec9ddc29b19"
      },
      "source": [
        "- Below, we illustrate the tokenization of a short sample text using a small vocabulary:"
      ]
    },
    {
      "cell_type": "markdown",
      "id": "67407a9f-0202-4e7c-9ed7-1b3154191ebc",
      "metadata": {
        "id": "67407a9f-0202-4e7c-9ed7-1b3154191ebc"
      },
      "source": [
        "<img src=\"https://sebastianraschka.com/images/LLMs-from-scratch-images/ch02_compressed/07.webp?123\" width=\"500px\">"
      ]
    },
    {
      "cell_type": "code",
      "source": [
        "Set = {\"A\",\"B\",\"C\",\"D\"}\n",
        "enumerate(Set)"
      ],
      "metadata": {
        "colab": {
          "base_uri": "https://localhost:8080/"
        },
        "id": "Z_frWGsXkew_",
        "outputId": "ba09a34a-4bd2-4e67-9a77-bbe17a509872"
      },
      "id": "Z_frWGsXkew_",
      "execution_count": 40,
      "outputs": [
        {
          "output_type": "execute_result",
          "data": {
            "text/plain": [
              "<enumerate at 0x78371eb36f80>"
            ]
          },
          "metadata": {},
          "execution_count": 40
        }
      ]
    },
    {
      "cell_type": "code",
      "source": [
        "for i, item in enumerate(Set):\n",
        "    print(i,item)"
      ],
      "metadata": {
        "colab": {
          "base_uri": "https://localhost:8080/"
        },
        "id": "sW8ww3CIlJgP",
        "outputId": "36550c82-a459-42c9-9b51-8f139fbdf6ee"
      },
      "id": "sW8ww3CIlJgP",
      "execution_count": 43,
      "outputs": [
        {
          "output_type": "stream",
          "name": "stdout",
          "text": [
            "0 C\n",
            "1 A\n",
            "2 D\n",
            "3 B\n"
          ]
        }
      ]
    },
    {
      "cell_type": "code",
      "source": [
        "text = \"\"\"\"It's the last he painted, you know,\"\n",
        "           Mrs. Gisburn said with pardonable pride.\"\"\""
      ],
      "metadata": {
        "id": "cn-8z4e5sUp9"
      },
      "id": "cn-8z4e5sUp9",
      "execution_count": 47,
      "outputs": []
    },
    {
      "cell_type": "code",
      "source": [
        "preprocessed = re.split(r'([,.:;?_!\"()\\']|--|\\s)', text)\n",
        "print(preprocessed)"
      ],
      "metadata": {
        "colab": {
          "base_uri": "https://localhost:8080/"
        },
        "id": "74i6N3YwsU_H",
        "outputId": "295b76f9-e355-4620-b838-3ec307cde672"
      },
      "id": "74i6N3YwsU_H",
      "execution_count": 51,
      "outputs": [
        {
          "output_type": "stream",
          "name": "stdout",
          "text": [
            "['', '\"', 'It', \"'\", 's', ' ', 'the', ' ', 'last', ' ', 'he', ' ', 'painted', ',', '', ' ', 'you', ' ', 'know', ',', '', '\"', '', ' ', '', '\\n', '', ' ', '', ' ', '', ' ', '', ' ', '', ' ', '', ' ', '', ' ', '', ' ', '', ' ', '', ' ', '', ' ', 'Mrs', '.', '', ' ', 'Gisburn', ' ', 'said', ' ', 'with', ' ', 'pardonable', ' ', 'pride', '.', '']\n"
          ]
        }
      ]
    },
    {
      "cell_type": "code",
      "source": [
        "preprocessed = [item.strip() for item in preprocessed if item.strip()]\n",
        "print(preprocessed)"
      ],
      "metadata": {
        "colab": {
          "base_uri": "https://localhost:8080/"
        },
        "id": "rfV0ksp-s2AK",
        "outputId": "b2dc6cfd-18a4-46aa-9bf1-988ae13adaea"
      },
      "id": "rfV0ksp-s2AK",
      "execution_count": 52,
      "outputs": [
        {
          "output_type": "stream",
          "name": "stdout",
          "text": [
            "['\"', 'It', \"'\", 's', 'the', 'last', 'he', 'painted', ',', 'you', 'know', ',', '\"', 'Mrs', '.', 'Gisburn', 'said', 'with', 'pardonable', 'pride', '.']\n"
          ]
        }
      ]
    },
    {
      "cell_type": "code",
      "source": [
        "ids = [vocab[s] for s in preprocessed]\n",
        "print(ids)"
      ],
      "metadata": {
        "colab": {
          "base_uri": "https://localhost:8080/"
        },
        "id": "B-loHyQTs2Fl",
        "outputId": "a65ee47f-fd71-4aec-f35d-75a41115a06e"
      },
      "id": "B-loHyQTs2Fl",
      "execution_count": 53,
      "outputs": [
        {
          "output_type": "stream",
          "name": "stdout",
          "text": [
            "[1, 56, 2, 850, 988, 602, 533, 746, 5, 1126, 596, 5, 1, 67, 7, 38, 851, 1108, 754, 793, 7]\n"
          ]
        }
      ]
    },
    {
      "cell_type": "code",
      "source": [
        "def encode(text):\n",
        "        preprocessed = re.split(r'([,.:;?_!\"()\\']|--|\\s)', text)\n",
        "\n",
        "        preprocessed = [\n",
        "            item.strip() for item in preprocessed if item.strip()\n",
        "        ]\n",
        "        ids = [vocab[s] for s in preprocessed]\n",
        "        return ids"
      ],
      "metadata": {
        "id": "9DBFoPdklewl"
      },
      "id": "9DBFoPdklewl",
      "execution_count": 45,
      "outputs": []
    },
    {
      "cell_type": "code",
      "source": [
        "text = \"\"\"\"It's the last he painted, you know,\"\n",
        "           Mrs. Gisburn said with pardonable pride.\"\"\"\n",
        "ids = encode(text)\n",
        "print(ids)"
      ],
      "metadata": {
        "colab": {
          "base_uri": "https://localhost:8080/"
        },
        "id": "-qxMb75Nlr-B",
        "outputId": "1d015e48-52c0-4785-a94f-4fa0d9244ca2"
      },
      "id": "-qxMb75Nlr-B",
      "execution_count": 46,
      "outputs": [
        {
          "output_type": "stream",
          "name": "stdout",
          "text": [
            "[1, 56, 2, 850, 988, 602, 533, 746, 5, 1126, 596, 5, 1, 67, 7, 38, 851, 1108, 754, 793, 7]\n"
          ]
        }
      ]
    },
    {
      "cell_type": "markdown",
      "id": "4e569647-2589-4c9d-9a5c-aef1c88a0a9a",
      "metadata": {
        "id": "4e569647-2589-4c9d-9a5c-aef1c88a0a9a"
      },
      "source": [
        "- Putting it now all together into a tokenizer class"
      ]
    },
    {
      "cell_type": "code",
      "execution_count": 15,
      "id": "f531bf46-7c25-4ef8-bff8-0d27518676d5",
      "metadata": {
        "id": "f531bf46-7c25-4ef8-bff8-0d27518676d5"
      },
      "outputs": [],
      "source": [
        "class SimpleTokenizerV1:\n",
        "    def __init__(self, vocab):\n",
        "        self.str_to_int = vocab\n",
        "        self.int_to_str = {i:s for s,i in vocab.items()}\n",
        "\n",
        "    def encode(self, text):\n",
        "        preprocessed = re.split(r'([,.:;?_!\"()\\']|--|\\s)', text)\n",
        "\n",
        "        preprocessed = [\n",
        "            item.strip() for item in preprocessed if item.strip()\n",
        "        ]\n",
        "        ids = [self.str_to_int[s] for s in preprocessed]\n",
        "        return ids\n",
        "\n",
        "    def decode(self, ids):\n",
        "        text = \" \".join([self.int_to_str[i] for i in ids])\n",
        "        # Replace spaces before the specified punctuations\n",
        "        text = re.sub(r'\\s+([,.?!\"()\\'])', r'\\1', text)\n",
        "        return text"
      ]
    },
    {
      "cell_type": "markdown",
      "id": "dee7a1e5-b54f-4ca1-87ef-3d663c4ee1e7",
      "metadata": {
        "id": "dee7a1e5-b54f-4ca1-87ef-3d663c4ee1e7"
      },
      "source": [
        "- The `encode` function turns text into token IDs\n",
        "- The `decode` function turns token IDs back into text"
      ]
    },
    {
      "cell_type": "markdown",
      "id": "cc21d347-ec03-4823-b3d4-9d686e495617",
      "metadata": {
        "id": "cc21d347-ec03-4823-b3d4-9d686e495617"
      },
      "source": [
        "<img src=\"https://sebastianraschka.com/images/LLMs-from-scratch-images/ch02_compressed/08.webp?123\" width=\"500px\">"
      ]
    },
    {
      "cell_type": "markdown",
      "id": "c2950a94-6b0d-474e-8ed0-66d0c3c1a95c",
      "metadata": {
        "id": "c2950a94-6b0d-474e-8ed0-66d0c3c1a95c"
      },
      "source": [
        "- We can use the tokenizer to encode (that is, tokenize) texts into integers\n",
        "- These integers can then be embedded (later) as input of/for the LLM"
      ]
    },
    {
      "cell_type": "code",
      "execution_count": 54,
      "id": "647364ec-7995-4654-9b4a-7607ccf5f1e4",
      "metadata": {
        "colab": {
          "base_uri": "https://localhost:8080/"
        },
        "id": "647364ec-7995-4654-9b4a-7607ccf5f1e4",
        "outputId": "c17d05fe-83a1-4b68-85f2-c0dd0066b608"
      },
      "outputs": [
        {
          "output_type": "stream",
          "name": "stdout",
          "text": [
            "[1, 56, 2, 850, 988, 602, 533, 746, 5, 1126, 596, 5, 1, 67, 7, 38, 851, 1108, 754, 793, 7]\n"
          ]
        }
      ],
      "source": [
        "tokenizer = SimpleTokenizerV1(vocab)\n",
        "\n",
        "text = \"\"\"\"It's the last he painted, you know,\"\n",
        "           Mrs. Gisburn said with pardonable pride.\"\"\"\n",
        "ids = tokenizer.encode(text)\n",
        "print(ids)"
      ]
    },
    {
      "cell_type": "markdown",
      "id": "3201706e-a487-4b60-b99d-5765865f29a0",
      "metadata": {
        "id": "3201706e-a487-4b60-b99d-5765865f29a0"
      },
      "source": [
        "- We can decode the integers back into text"
      ]
    },
    {
      "cell_type": "code",
      "execution_count": null,
      "id": "01d8c8fb-432d-4a49-b332-99f23b233746",
      "metadata": {
        "id": "01d8c8fb-432d-4a49-b332-99f23b233746",
        "outputId": "fa7e1fc4-813b-400f-b906-649354fc0519"
      },
      "outputs": [
        {
          "data": {
            "text/plain": [
              "'\" It\\' s the last he painted, you know,\" Mrs. Gisburn said with pardonable pride.'"
            ]
          },
          "execution_count": 15,
          "metadata": {},
          "output_type": "execute_result"
        }
      ],
      "source": [
        "tokenizer.decode(ids)"
      ]
    },
    {
      "cell_type": "code",
      "execution_count": null,
      "id": "54f6aa8b-9827-412e-9035-e827296ab0fe",
      "metadata": {
        "id": "54f6aa8b-9827-412e-9035-e827296ab0fe",
        "outputId": "f527ccee-eac0-4289-bc74-b7e47d8ab359"
      },
      "outputs": [
        {
          "data": {
            "text/plain": [
              "'\" It\\' s the last he painted, you know,\" Mrs. Gisburn said with pardonable pride.'"
            ]
          },
          "execution_count": 16,
          "metadata": {},
          "output_type": "execute_result"
        }
      ],
      "source": [
        "tokenizer.decode(tokenizer.encode(text))"
      ]
    },
    {
      "cell_type": "markdown",
      "id": "4b821ef8-4d53-43b6-a2b2-aef808c343c7",
      "metadata": {
        "id": "4b821ef8-4d53-43b6-a2b2-aef808c343c7"
      },
      "source": [
        "## 2.4 Adding special context tokens"
      ]
    },
    {
      "cell_type": "markdown",
      "id": "863d6d15-a3e2-44e0-b384-bb37f17cf443",
      "metadata": {
        "id": "863d6d15-a3e2-44e0-b384-bb37f17cf443"
      },
      "source": [
        "- It's useful to add some \"special\" tokens for unknown words and to denote the end of a text"
      ]
    },
    {
      "cell_type": "markdown",
      "id": "aa7fc96c-e1fd-44fb-b7f5-229d7c7922a4",
      "metadata": {
        "id": "aa7fc96c-e1fd-44fb-b7f5-229d7c7922a4"
      },
      "source": [
        "<img src=\"https://sebastianraschka.com/images/LLMs-from-scratch-images/ch02_compressed/09.webp?123\" width=\"500px\">"
      ]
    },
    {
      "cell_type": "markdown",
      "id": "9d709d57-2486-4152-b7f9-d3e4bd8634cd",
      "metadata": {
        "id": "9d709d57-2486-4152-b7f9-d3e4bd8634cd"
      },
      "source": [
        "- Some tokenizers use special tokens to help the LLM with additional context\n",
        "- Some of these special tokens are\n",
        "  - `[BOS]` (beginning of sequence) marks the beginning of text\n",
        "  - `[EOS]` (end of sequence) marks where the text ends (this is usually used to concatenate multiple unrelated texts, e.g., two different Wikipedia articles or two different books, and so on)\n",
        "  - `[PAD]` (padding) if we train LLMs with a batch size greater than 1 (we may include multiple texts with different lengths; with the padding token we pad the shorter texts to the longest length so that all texts have an equal length)\n",
        "- `[UNK]` to represent words that are not included in the vocabulary\n",
        "\n",
        "- Note that GPT-2 does not need any of these tokens mentioned above but only uses an `<|endoftext|>` token to reduce complexity\n",
        "- The `<|endoftext|>` is analogous to the `[EOS]` token mentioned above\n",
        "- GPT also uses the `<|endoftext|>` for padding (since we typically use a mask when training on batched inputs, we would not attend padded tokens anyways, so it does not matter what these tokens are)\n",
        "- GPT-2 does not use an `<UNK>` token for out-of-vocabulary words; instead, GPT-2 uses a byte-pair encoding (BPE) tokenizer, which breaks down words into subword units which we will discuss in a later section\n",
        "\n"
      ]
    },
    {
      "cell_type": "markdown",
      "id": "a336b43b-7173-49e7-bd80-527ad4efb271",
      "metadata": {
        "id": "a336b43b-7173-49e7-bd80-527ad4efb271"
      },
      "source": [
        "- We use the `<|endoftext|>` tokens between two independent sources of text:"
      ]
    },
    {
      "cell_type": "markdown",
      "id": "52442951-752c-4855-9752-b121a17fef55",
      "metadata": {
        "id": "52442951-752c-4855-9752-b121a17fef55"
      },
      "source": [
        "<img src=\"https://sebastianraschka.com/images/LLMs-from-scratch-images/ch02_compressed/10.webp\" width=\"500px\">"
      ]
    },
    {
      "cell_type": "markdown",
      "id": "c661a397-da06-4a86-ac27-072dbe7cb172",
      "metadata": {
        "id": "c661a397-da06-4a86-ac27-072dbe7cb172"
      },
      "source": [
        "- Let's see what happens if we tokenize the following text:"
      ]
    },
    {
      "cell_type": "code",
      "execution_count": null,
      "id": "d5767eff-440c-4de1-9289-f789349d6b85",
      "metadata": {
        "id": "d5767eff-440c-4de1-9289-f789349d6b85",
        "outputId": "95ad5ab3-9433-4567-953d-2665023518c0"
      },
      "outputs": [
        {
          "ename": "KeyError",
          "evalue": "'Hello'",
          "output_type": "error",
          "traceback": [
            "\u001b[0;31m---------------------------------------------------------------------------\u001b[0m",
            "\u001b[0;31mKeyError\u001b[0m                                  Traceback (most recent call last)",
            "Cell \u001b[0;32mIn[17], line 5\u001b[0m\n\u001b[1;32m      1\u001b[0m tokenizer \u001b[38;5;241m=\u001b[39m SimpleTokenizerV1(vocab)\n\u001b[1;32m      3\u001b[0m text \u001b[38;5;241m=\u001b[39m \u001b[38;5;124m\"\u001b[39m\u001b[38;5;124mHello, do you like tea. Is this-- a test?\u001b[39m\u001b[38;5;124m\"\u001b[39m\n\u001b[0;32m----> 5\u001b[0m tokenizer\u001b[38;5;241m.\u001b[39mencode(text)\n",
            "Cell \u001b[0;32mIn[13], line 12\u001b[0m, in \u001b[0;36mSimpleTokenizerV1.encode\u001b[0;34m(self, text)\u001b[0m\n\u001b[1;32m      7\u001b[0m preprocessed \u001b[38;5;241m=\u001b[39m re\u001b[38;5;241m.\u001b[39msplit(\u001b[38;5;124mr\u001b[39m\u001b[38;5;124m'\u001b[39m\u001b[38;5;124m([,.:;?_!\u001b[39m\u001b[38;5;124m\"\u001b[39m\u001b[38;5;124m()\u001b[39m\u001b[38;5;130;01m\\'\u001b[39;00m\u001b[38;5;124m]|--|\u001b[39m\u001b[38;5;124m\\\u001b[39m\u001b[38;5;124ms)\u001b[39m\u001b[38;5;124m'\u001b[39m, text)\n\u001b[1;32m      9\u001b[0m preprocessed \u001b[38;5;241m=\u001b[39m [\n\u001b[1;32m     10\u001b[0m     item\u001b[38;5;241m.\u001b[39mstrip() \u001b[38;5;28;01mfor\u001b[39;00m item \u001b[38;5;129;01min\u001b[39;00m preprocessed \u001b[38;5;28;01mif\u001b[39;00m item\u001b[38;5;241m.\u001b[39mstrip()\n\u001b[1;32m     11\u001b[0m ]\n\u001b[0;32m---> 12\u001b[0m ids \u001b[38;5;241m=\u001b[39m [\u001b[38;5;28mself\u001b[39m\u001b[38;5;241m.\u001b[39mstr_to_int[s] \u001b[38;5;28;01mfor\u001b[39;00m s \u001b[38;5;129;01min\u001b[39;00m preprocessed]\n\u001b[1;32m     13\u001b[0m \u001b[38;5;28;01mreturn\u001b[39;00m ids\n",
            "Cell \u001b[0;32mIn[13], line 12\u001b[0m, in \u001b[0;36m<listcomp>\u001b[0;34m(.0)\u001b[0m\n\u001b[1;32m      7\u001b[0m preprocessed \u001b[38;5;241m=\u001b[39m re\u001b[38;5;241m.\u001b[39msplit(\u001b[38;5;124mr\u001b[39m\u001b[38;5;124m'\u001b[39m\u001b[38;5;124m([,.:;?_!\u001b[39m\u001b[38;5;124m\"\u001b[39m\u001b[38;5;124m()\u001b[39m\u001b[38;5;130;01m\\'\u001b[39;00m\u001b[38;5;124m]|--|\u001b[39m\u001b[38;5;124m\\\u001b[39m\u001b[38;5;124ms)\u001b[39m\u001b[38;5;124m'\u001b[39m, text)\n\u001b[1;32m      9\u001b[0m preprocessed \u001b[38;5;241m=\u001b[39m [\n\u001b[1;32m     10\u001b[0m     item\u001b[38;5;241m.\u001b[39mstrip() \u001b[38;5;28;01mfor\u001b[39;00m item \u001b[38;5;129;01min\u001b[39;00m preprocessed \u001b[38;5;28;01mif\u001b[39;00m item\u001b[38;5;241m.\u001b[39mstrip()\n\u001b[1;32m     11\u001b[0m ]\n\u001b[0;32m---> 12\u001b[0m ids \u001b[38;5;241m=\u001b[39m [\u001b[38;5;28mself\u001b[39m\u001b[38;5;241m.\u001b[39mstr_to_int[s] \u001b[38;5;28;01mfor\u001b[39;00m s \u001b[38;5;129;01min\u001b[39;00m preprocessed]\n\u001b[1;32m     13\u001b[0m \u001b[38;5;28;01mreturn\u001b[39;00m ids\n",
            "\u001b[0;31mKeyError\u001b[0m: 'Hello'"
          ]
        }
      ],
      "source": [
        "tokenizer = SimpleTokenizerV1(vocab)\n",
        "\n",
        "text = \"Hello, do you like tea. Is this-- a test?\"\n",
        "\n",
        "tokenizer.encode(text)"
      ]
    },
    {
      "cell_type": "markdown",
      "id": "dc53ee0c-fe2b-4cd8-a946-5471f7651acf",
      "metadata": {
        "id": "dc53ee0c-fe2b-4cd8-a946-5471f7651acf"
      },
      "source": [
        "- The above produces an error because the word \"Hello\" is not contained in the vocabulary\n",
        "- To deal with such cases, we can add special tokens like `\"<|unk|>\"` to the vocabulary to represent unknown words\n",
        "- Since we are already extending the vocabulary, let's add another token called `\"<|endoftext|>\"` which is used in GPT-2 training to denote the end of a text (and it's also used between concatenated text, like if our training datasets consists of multiple articles, books, etc.)"
      ]
    },
    {
      "cell_type": "code",
      "execution_count": null,
      "id": "ce9df29c-6c5b-43f1-8c1a-c7f7b79db78f",
      "metadata": {
        "id": "ce9df29c-6c5b-43f1-8c1a-c7f7b79db78f"
      },
      "outputs": [],
      "source": [
        "all_tokens = sorted(list(set(preprocessed)))\n",
        "all_tokens.extend([\"<|endoftext|>\", \"<|unk|>\"])\n",
        "\n",
        "vocab = {token:integer for integer,token in enumerate(all_tokens)}"
      ]
    },
    {
      "cell_type": "code",
      "execution_count": null,
      "id": "57c3143b-e860-4d3b-a22a-de22b547a6a9",
      "metadata": {
        "id": "57c3143b-e860-4d3b-a22a-de22b547a6a9",
        "outputId": "3c84fba7-2ad9-4aba-e80b-a779ddbb8da0"
      },
      "outputs": [
        {
          "data": {
            "text/plain": [
              "1132"
            ]
          },
          "execution_count": 19,
          "metadata": {},
          "output_type": "execute_result"
        }
      ],
      "source": [
        "len(vocab.items())"
      ]
    },
    {
      "cell_type": "code",
      "execution_count": null,
      "id": "50e51bb1-ae05-4aa8-a9ff-455b65ed1959",
      "metadata": {
        "id": "50e51bb1-ae05-4aa8-a9ff-455b65ed1959",
        "outputId": "2ef58512-0f13-47e3-cdb6-014a49b2724c"
      },
      "outputs": [
        {
          "name": "stdout",
          "output_type": "stream",
          "text": [
            "('younger', 1127)\n",
            "('your', 1128)\n",
            "('yourself', 1129)\n",
            "('<|endoftext|>', 1130)\n",
            "('<|unk|>', 1131)\n"
          ]
        }
      ],
      "source": [
        "for i, item in enumerate(list(vocab.items())[-5:]):\n",
        "    print(item)"
      ]
    },
    {
      "cell_type": "markdown",
      "id": "a1daa2b0-6e75-412b-ab53-1f6fb7b4d453",
      "metadata": {
        "id": "a1daa2b0-6e75-412b-ab53-1f6fb7b4d453"
      },
      "source": [
        "- We also need to adjust the tokenizer accordingly so that it knows when and how to use the new `<unk>` token"
      ]
    },
    {
      "cell_type": "code",
      "execution_count": 1,
      "id": "948861c5-3f30-4712-a234-725f20d26f68",
      "metadata": {
        "id": "948861c5-3f30-4712-a234-725f20d26f68"
      },
      "outputs": [],
      "source": [
        "class SimpleTokenizerV2:\n",
        "    def __init__(self, vocab):\n",
        "        self.str_to_int = vocab\n",
        "        self.int_to_str = { i:s for s,i in vocab.items()}\n",
        "\n",
        "    def encode(self, text):\n",
        "        preprocessed = re.split(r'([,.:;?_!\"()\\']|--|\\s)', text)\n",
        "        preprocessed = [item.strip() for item in preprocessed if item.strip()]\n",
        "        preprocessed = [\n",
        "            item if item in self.str_to_int\n",
        "            else \"<|unk|>\" for item in preprocessed\n",
        "        ]\n",
        "\n",
        "        ids = [self.str_to_int[s] for s in preprocessed]\n",
        "        return ids\n",
        "\n",
        "    def decode(self, ids):\n",
        "        text = \" \".join([self.int_to_str[i] for i in ids])\n",
        "        # Replace spaces before the specified punctuations\n",
        "        text = re.sub(r'\\s+([,.:;?!\"()\\'])', r'\\1', text)\n",
        "        return text"
      ]
    },
    {
      "cell_type": "markdown",
      "id": "aa728dd1-9d35-4ac7-938f-d411d73083f6",
      "metadata": {
        "id": "aa728dd1-9d35-4ac7-938f-d411d73083f6"
      },
      "source": [
        "Let's try to tokenize text with the modified tokenizer:"
      ]
    },
    {
      "cell_type": "code",
      "execution_count": 2,
      "id": "4133c502-18ac-4412-9f43-01caf4efa3dc",
      "metadata": {
        "colab": {
          "base_uri": "https://localhost:8080/",
          "height": 216
        },
        "id": "4133c502-18ac-4412-9f43-01caf4efa3dc",
        "outputId": "56853eec-eb0e-4b5e-f5c0-4f0e89f5953a"
      },
      "outputs": [
        {
          "output_type": "error",
          "ename": "NameError",
          "evalue": "name 'vocab' is not defined",
          "traceback": [
            "\u001b[0;31m---------------------------------------------------------------------------\u001b[0m",
            "\u001b[0;31mNameError\u001b[0m                                 Traceback (most recent call last)",
            "\u001b[0;32m<ipython-input-2-f039881ef27c>\u001b[0m in \u001b[0;36m<cell line: 1>\u001b[0;34m()\u001b[0m\n\u001b[0;32m----> 1\u001b[0;31m \u001b[0mtokenizer\u001b[0m \u001b[0;34m=\u001b[0m \u001b[0mSimpleTokenizerV2\u001b[0m\u001b[0;34m(\u001b[0m\u001b[0mvocab\u001b[0m\u001b[0;34m)\u001b[0m\u001b[0;34m\u001b[0m\u001b[0;34m\u001b[0m\u001b[0m\n\u001b[0m\u001b[1;32m      2\u001b[0m \u001b[0;34m\u001b[0m\u001b[0m\n\u001b[1;32m      3\u001b[0m \u001b[0mtext1\u001b[0m \u001b[0;34m=\u001b[0m \u001b[0;34m\"Hello, do you like tea?\"\u001b[0m\u001b[0;34m\u001b[0m\u001b[0;34m\u001b[0m\u001b[0m\n\u001b[1;32m      4\u001b[0m \u001b[0mtext2\u001b[0m \u001b[0;34m=\u001b[0m \u001b[0;34m\"In the sunlit terraces of the palace.\"\u001b[0m\u001b[0;34m\u001b[0m\u001b[0;34m\u001b[0m\u001b[0m\n\u001b[1;32m      5\u001b[0m \u001b[0;34m\u001b[0m\u001b[0m\n",
            "\u001b[0;31mNameError\u001b[0m: name 'vocab' is not defined"
          ]
        }
      ],
      "source": [
        "tokenizer = SimpleTokenizerV2(vocab)\n",
        "\n",
        "text1 = \"Hello, do you like tea?\"\n",
        "text2 = \"In the sunlit terraces of the palace.\"\n",
        "\n",
        "text = \" <|endoftext|> \".join((text1, text2))\n",
        "\n",
        "print(text)"
      ]
    },
    {
      "cell_type": "code",
      "execution_count": null,
      "id": "7ed395fe-dc1b-4ed2-b85b-457cc35aab60",
      "metadata": {
        "id": "7ed395fe-dc1b-4ed2-b85b-457cc35aab60",
        "outputId": "71fea5dc-1560-4ca3-8185-ac62b3a3ff38"
      },
      "outputs": [
        {
          "data": {
            "text/plain": [
              "[1131, 5, 355, 1126, 628, 975, 10, 1130, 55, 988, 956, 984, 722, 988, 1131, 7]"
            ]
          },
          "execution_count": 23,
          "metadata": {},
          "output_type": "execute_result"
        }
      ],
      "source": [
        "tokenizer.encode(text)"
      ]
    },
    {
      "cell_type": "code",
      "execution_count": null,
      "id": "059367f9-7a60-4c0d-8a00-7c4c766d0ebc",
      "metadata": {
        "id": "059367f9-7a60-4c0d-8a00-7c4c766d0ebc",
        "outputId": "5a83bd38-510e-43c7-968f-5b6eebc401dc"
      },
      "outputs": [
        {
          "data": {
            "text/plain": [
              "'<|unk|>, do you like tea? <|endoftext|> In the sunlit terraces of the <|unk|>.'"
            ]
          },
          "execution_count": 24,
          "metadata": {},
          "output_type": "execute_result"
        }
      ],
      "source": [
        "tokenizer.decode(tokenizer.encode(text))"
      ]
    },
    {
      "cell_type": "markdown",
      "id": "5c4ba34b-170f-4e71-939b-77aabb776f14",
      "metadata": {
        "id": "5c4ba34b-170f-4e71-939b-77aabb776f14"
      },
      "source": [
        "## 2.5 BytePair encoding"
      ]
    },
    {
      "cell_type": "markdown",
      "id": "2309494c-79cf-4a2d-bc28-a94d602f050e",
      "metadata": {
        "id": "2309494c-79cf-4a2d-bc28-a94d602f050e"
      },
      "source": [
        "- GPT-2 used BytePair encoding (BPE) as its tokenizer\n",
        "- it allows the model to break down words that aren't in its predefined vocabulary into smaller subword units or even individual characters, enabling it to handle out-of-vocabulary words\n",
        "- For instance, if GPT-2's vocabulary doesn't have the word \"unfamiliarword,\" it might tokenize it as [\"unfam\", \"iliar\", \"word\"] or some other subword breakdown, depending on its trained BPE merges\n",
        "- The original BPE tokenizer can be found here: [https://github.com/openai/gpt-2/blob/master/src/encoder.py](https://github.com/openai/gpt-2/blob/master/src/encoder.py)\n",
        "- In this chapter, we are using the BPE tokenizer from OpenAI's open-source [tiktoken](https://github.com/openai/tiktoken) library, which implements its core algorithms in Rust to improve computational performance\n",
        "- I created a notebook in the [./bytepair_encoder](../02_bonus_bytepair-encoder) that compares these two implementations side-by-side (tiktoken was about 5x faster on the sample text)"
      ]
    },
    {
      "cell_type": "code",
      "execution_count": null,
      "id": "ede1d41f-934b-4bf4-8184-54394a257a94",
      "metadata": {
        "id": "ede1d41f-934b-4bf4-8184-54394a257a94"
      },
      "outputs": [],
      "source": [
        "# pip install tiktoken"
      ]
    },
    {
      "cell_type": "code",
      "execution_count": null,
      "id": "48967a77-7d17-42bf-9e92-fc619d63a59e",
      "metadata": {
        "id": "48967a77-7d17-42bf-9e92-fc619d63a59e",
        "outputId": "0601488a-93f4-4747-d7c7-5dcc5c36c940"
      },
      "outputs": [
        {
          "name": "stdout",
          "output_type": "stream",
          "text": [
            "tiktoken version: 0.7.0\n"
          ]
        }
      ],
      "source": [
        "import importlib\n",
        "import tiktoken\n",
        "\n",
        "print(\"tiktoken version:\", importlib.metadata.version(\"tiktoken\"))"
      ]
    },
    {
      "cell_type": "code",
      "execution_count": null,
      "id": "6ad3312f-a5f7-4efc-9d7d-8ea09d7b5128",
      "metadata": {
        "id": "6ad3312f-a5f7-4efc-9d7d-8ea09d7b5128"
      },
      "outputs": [],
      "source": [
        "tokenizer = tiktoken.get_encoding(\"gpt2\")"
      ]
    },
    {
      "cell_type": "code",
      "execution_count": null,
      "id": "5ff2cd85-7cfb-4325-b390-219938589428",
      "metadata": {
        "id": "5ff2cd85-7cfb-4325-b390-219938589428",
        "outputId": "5b8de0e1-0aa4-41db-ebfb-70c6a49afcd4"
      },
      "outputs": [
        {
          "name": "stdout",
          "output_type": "stream",
          "text": [
            "[15496, 11, 466, 345, 588, 8887, 30, 220, 50256, 554, 262, 4252, 18250, 8812, 2114, 1659, 617, 34680, 27271, 13]\n"
          ]
        }
      ],
      "source": [
        "text = (\n",
        "    \"Hello, do you like tea? <|endoftext|> In the sunlit terraces\"\n",
        "     \"of someunknownPlace.\"\n",
        ")\n",
        "\n",
        "integers = tokenizer.encode(text, allowed_special={\"<|endoftext|>\"})\n",
        "\n",
        "print(integers)"
      ]
    },
    {
      "cell_type": "code",
      "execution_count": null,
      "id": "d26a48bb-f82e-41a8-a955-a1c9cf9d50ab",
      "metadata": {
        "id": "d26a48bb-f82e-41a8-a955-a1c9cf9d50ab",
        "outputId": "19ed1483-e81a-4261-a7d4-2f1094d02ba7"
      },
      "outputs": [
        {
          "name": "stdout",
          "output_type": "stream",
          "text": [
            "Hello, do you like tea? <|endoftext|> In the sunlit terracesof someunknownPlace.\n"
          ]
        }
      ],
      "source": [
        "strings = tokenizer.decode(integers)\n",
        "\n",
        "print(strings)"
      ]
    },
    {
      "cell_type": "markdown",
      "id": "e8c2e7b4-6a22-42aa-8e4d-901f06378d4a",
      "metadata": {
        "id": "e8c2e7b4-6a22-42aa-8e4d-901f06378d4a"
      },
      "source": [
        "- BPE tokenizers break down unknown words into subwords and individual characters:"
      ]
    },
    {
      "cell_type": "markdown",
      "id": "c082d41f-33d7-4827-97d8-993d5a84bb3c",
      "metadata": {
        "id": "c082d41f-33d7-4827-97d8-993d5a84bb3c"
      },
      "source": [
        "<img src=\"https://sebastianraschka.com/images/LLMs-from-scratch-images/ch02_compressed/11.webp\" width=\"300px\">"
      ]
    },
    {
      "cell_type": "markdown",
      "id": "abbd7c0d-70f8-4386-a114-907e96c950b0",
      "metadata": {
        "id": "abbd7c0d-70f8-4386-a114-907e96c950b0"
      },
      "source": [
        "## 2.6 Data sampling with a sliding window"
      ]
    },
    {
      "cell_type": "markdown",
      "id": "509d9826-6384-462e-aa8a-a7c73cd6aad0",
      "metadata": {
        "id": "509d9826-6384-462e-aa8a-a7c73cd6aad0"
      },
      "source": [
        "- We train LLMs to generate one word at a time, so we want to prepare the training data accordingly where the next word in a sequence represents the target to predict:"
      ]
    },
    {
      "cell_type": "markdown",
      "id": "39fb44f4-0c43-4a6a-9c2f-9cf31452354c",
      "metadata": {
        "id": "39fb44f4-0c43-4a6a-9c2f-9cf31452354c"
      },
      "source": [
        "<img src=\"https://sebastianraschka.com/images/LLMs-from-scratch-images/ch02_compressed/12.webp\" width=\"400px\">"
      ]
    },
    {
      "cell_type": "code",
      "execution_count": null,
      "id": "848d5ade-fd1f-46c3-9e31-1426e315c71b",
      "metadata": {
        "id": "848d5ade-fd1f-46c3-9e31-1426e315c71b",
        "outputId": "4826aaab-e2e0-4755-ff95-97d1b6a7866f"
      },
      "outputs": [
        {
          "name": "stdout",
          "output_type": "stream",
          "text": [
            "5145\n"
          ]
        }
      ],
      "source": [
        "with open(\"the-verdict.txt\", \"r\", encoding=\"utf-8\") as f:\n",
        "    raw_text = f.read()\n",
        "\n",
        "enc_text = tokenizer.encode(raw_text)\n",
        "print(len(enc_text))"
      ]
    },
    {
      "cell_type": "markdown",
      "id": "cebd0657-5543-43ca-8011-2ae6bd0a5810",
      "metadata": {
        "id": "cebd0657-5543-43ca-8011-2ae6bd0a5810"
      },
      "source": [
        "- For each text chunk, we want the inputs and targets\n",
        "- Since we want the model to predict the next word, the targets are the inputs shifted by one position to the right"
      ]
    },
    {
      "cell_type": "code",
      "execution_count": null,
      "id": "e84424a7-646d-45b6-99e3-80d15fb761f2",
      "metadata": {
        "id": "e84424a7-646d-45b6-99e3-80d15fb761f2"
      },
      "outputs": [],
      "source": [
        "enc_sample = enc_text[50:]"
      ]
    },
    {
      "cell_type": "code",
      "execution_count": null,
      "id": "dfbff852-a92f-48c8-a46d-143a0f109f40",
      "metadata": {
        "id": "dfbff852-a92f-48c8-a46d-143a0f109f40",
        "outputId": "25eb04d2-d9c7-4b8a-9495-f0e5b9782d6a"
      },
      "outputs": [
        {
          "name": "stdout",
          "output_type": "stream",
          "text": [
            "x: [290, 4920, 2241, 287]\n",
            "y:      [4920, 2241, 287, 257]\n"
          ]
        }
      ],
      "source": [
        "context_size = 4\n",
        "\n",
        "x = enc_sample[:context_size]\n",
        "y = enc_sample[1:context_size+1]\n",
        "\n",
        "print(f\"x: {x}\")\n",
        "print(f\"y:      {y}\")"
      ]
    },
    {
      "cell_type": "markdown",
      "id": "815014ef-62f7-4476-a6ad-66e20e42b7c3",
      "metadata": {
        "id": "815014ef-62f7-4476-a6ad-66e20e42b7c3"
      },
      "source": [
        "- One by one, the prediction would look like as follows:"
      ]
    },
    {
      "cell_type": "code",
      "execution_count": null,
      "id": "d97b031e-ed55-409d-95f2-aeb38c6fe366",
      "metadata": {
        "id": "d97b031e-ed55-409d-95f2-aeb38c6fe366",
        "outputId": "081bf970-89da-4f7d-a499-eed05337464d"
      },
      "outputs": [
        {
          "name": "stdout",
          "output_type": "stream",
          "text": [
            "[290] ----> 4920\n",
            "[290, 4920] ----> 2241\n",
            "[290, 4920, 2241] ----> 287\n",
            "[290, 4920, 2241, 287] ----> 257\n"
          ]
        }
      ],
      "source": [
        "for i in range(1, context_size+1):\n",
        "    context = enc_sample[:i]\n",
        "    desired = enc_sample[i]\n",
        "\n",
        "    print(context, \"---->\", desired)"
      ]
    },
    {
      "cell_type": "code",
      "execution_count": null,
      "id": "f57bd746-dcbf-4433-8e24-ee213a8c34a1",
      "metadata": {
        "id": "f57bd746-dcbf-4433-8e24-ee213a8c34a1",
        "outputId": "cc0f0559-71f9-4485-c70a-9b0523806988"
      },
      "outputs": [
        {
          "name": "stdout",
          "output_type": "stream",
          "text": [
            " and ---->  established\n",
            " and established ---->  himself\n",
            " and established himself ---->  in\n",
            " and established himself in ---->  a\n"
          ]
        }
      ],
      "source": [
        "for i in range(1, context_size+1):\n",
        "    context = enc_sample[:i]\n",
        "    desired = enc_sample[i]\n",
        "\n",
        "    print(tokenizer.decode(context), \"---->\", tokenizer.decode([desired]))"
      ]
    },
    {
      "cell_type": "markdown",
      "id": "210d2dd9-fc20-4927-8d3d-1466cf41aae1",
      "metadata": {
        "id": "210d2dd9-fc20-4927-8d3d-1466cf41aae1"
      },
      "source": [
        "- We will take care of the next-word prediction in a later chapter after we covered the attention mechanism\n",
        "- For now, we implement a simple data loader that iterates over the input dataset and returns the inputs and targets shifted by one"
      ]
    },
    {
      "cell_type": "markdown",
      "id": "a1a1b47a-f646-49d1-bc70-fddf2c840796",
      "metadata": {
        "id": "a1a1b47a-f646-49d1-bc70-fddf2c840796"
      },
      "source": [
        "- Install and import PyTorch (see Appendix A for installation tips)"
      ]
    },
    {
      "cell_type": "code",
      "execution_count": null,
      "id": "e1770134-e7f3-4725-a679-e04c3be48cac",
      "metadata": {
        "id": "e1770134-e7f3-4725-a679-e04c3be48cac",
        "outputId": "d912b249-6627-4257-d0b4-5b8958ca59f9"
      },
      "outputs": [
        {
          "name": "stdout",
          "output_type": "stream",
          "text": [
            "PyTorch version: 2.4.0\n"
          ]
        }
      ],
      "source": [
        "import torch\n",
        "print(\"PyTorch version:\", torch.__version__)"
      ]
    },
    {
      "cell_type": "markdown",
      "id": "0c9a3d50-885b-49bc-b791-9f5cc8bc7b7c",
      "metadata": {
        "id": "0c9a3d50-885b-49bc-b791-9f5cc8bc7b7c"
      },
      "source": [
        "- We use a sliding window approach, changing the position by +1:\n",
        "\n",
        "<img src=\"https://sebastianraschka.com/images/LLMs-from-scratch-images/ch02_compressed/13.webp?123\" width=\"500px\">"
      ]
    },
    {
      "cell_type": "markdown",
      "id": "92ac652d-7b38-4843-9fbd-494cdc8ec12c",
      "metadata": {
        "id": "92ac652d-7b38-4843-9fbd-494cdc8ec12c"
      },
      "source": [
        "- Create dataset and dataloader that extract chunks from the input text dataset"
      ]
    },
    {
      "cell_type": "code",
      "execution_count": null,
      "id": "74b41073-4c9f-46e2-a1bd-d38e4122b375",
      "metadata": {
        "id": "74b41073-4c9f-46e2-a1bd-d38e4122b375"
      },
      "outputs": [],
      "source": [
        "from torch.utils.data import Dataset, DataLoader\n",
        "\n",
        "\n",
        "class GPTDatasetV1(Dataset):\n",
        "    def __init__(self, txt, tokenizer, max_length, stride):\n",
        "        self.input_ids = []\n",
        "        self.target_ids = []\n",
        "\n",
        "        # Tokenize the entire text\n",
        "        token_ids = tokenizer.encode(txt, allowed_special={\"<|endoftext|>\"})\n",
        "\n",
        "        # Use a sliding window to chunk the book into overlapping sequences of max_length\n",
        "        for i in range(0, len(token_ids) - max_length, stride):\n",
        "            input_chunk = token_ids[i:i + max_length]\n",
        "            target_chunk = token_ids[i + 1: i + max_length + 1]\n",
        "            self.input_ids.append(torch.tensor(input_chunk))\n",
        "            self.target_ids.append(torch.tensor(target_chunk))\n",
        "\n",
        "    def __len__(self):\n",
        "        return len(self.input_ids)\n",
        "\n",
        "    def __getitem__(self, idx):\n",
        "        return self.input_ids[idx], self.target_ids[idx]"
      ]
    },
    {
      "cell_type": "code",
      "execution_count": null,
      "id": "5eb30ebe-97b3-43c5-9ff1-a97d621b3c4e",
      "metadata": {
        "id": "5eb30ebe-97b3-43c5-9ff1-a97d621b3c4e"
      },
      "outputs": [],
      "source": [
        "def create_dataloader_v1(txt, batch_size=4, max_length=256,\n",
        "                         stride=128, shuffle=True, drop_last=True,\n",
        "                         num_workers=0):\n",
        "\n",
        "    # Initialize the tokenizer\n",
        "    tokenizer = tiktoken.get_encoding(\"gpt2\")\n",
        "\n",
        "    # Create dataset\n",
        "    dataset = GPTDatasetV1(txt, tokenizer, max_length, stride)\n",
        "\n",
        "    # Create dataloader\n",
        "    dataloader = DataLoader(\n",
        "        dataset,\n",
        "        batch_size=batch_size,\n",
        "        shuffle=shuffle,\n",
        "        drop_last=drop_last,\n",
        "        num_workers=num_workers\n",
        "    )\n",
        "\n",
        "    return dataloader"
      ]
    },
    {
      "cell_type": "markdown",
      "id": "42dd68ef-59f7-45ff-ba44-e311c899ddcd",
      "metadata": {
        "id": "42dd68ef-59f7-45ff-ba44-e311c899ddcd"
      },
      "source": [
        "- Let's test the dataloader with a batch size of 1 for an LLM with a context size of 4:"
      ]
    },
    {
      "cell_type": "code",
      "execution_count": null,
      "id": "df31d96c-6bfd-4564-a956-6192242d7579",
      "metadata": {
        "id": "df31d96c-6bfd-4564-a956-6192242d7579"
      },
      "outputs": [],
      "source": [
        "with open(\"the-verdict.txt\", \"r\", encoding=\"utf-8\") as f:\n",
        "    raw_text = f.read()"
      ]
    },
    {
      "cell_type": "code",
      "execution_count": null,
      "id": "9226d00c-ad9a-4949-a6e4-9afccfc7214f",
      "metadata": {
        "id": "9226d00c-ad9a-4949-a6e4-9afccfc7214f",
        "outputId": "0c6d8abd-37fa-4511-ac57-92d84d7bfecb"
      },
      "outputs": [
        {
          "name": "stdout",
          "output_type": "stream",
          "text": [
            "[tensor([[  40,  367, 2885, 1464]]), tensor([[ 367, 2885, 1464, 1807]])]\n"
          ]
        }
      ],
      "source": [
        "dataloader = create_dataloader_v1(\n",
        "    raw_text, batch_size=1, max_length=4, stride=1, shuffle=False\n",
        ")\n",
        "\n",
        "data_iter = iter(dataloader)\n",
        "first_batch = next(data_iter)\n",
        "print(first_batch)"
      ]
    },
    {
      "cell_type": "code",
      "execution_count": null,
      "id": "10deb4bc-4de1-4d20-921e-4b1c7a0e1a6d",
      "metadata": {
        "id": "10deb4bc-4de1-4d20-921e-4b1c7a0e1a6d",
        "outputId": "37fb1d44-c57b-402d-ae51-e240b9dde523"
      },
      "outputs": [
        {
          "name": "stdout",
          "output_type": "stream",
          "text": [
            "[tensor([[ 367, 2885, 1464, 1807]]), tensor([[2885, 1464, 1807, 3619]])]\n"
          ]
        }
      ],
      "source": [
        "second_batch = next(data_iter)\n",
        "print(second_batch)"
      ]
    },
    {
      "cell_type": "markdown",
      "id": "b006212f-de45-468d-bdee-5806216d1679",
      "metadata": {
        "id": "b006212f-de45-468d-bdee-5806216d1679"
      },
      "source": [
        "- An example using stride equal to the context length (here: 4) as shown below:"
      ]
    },
    {
      "cell_type": "markdown",
      "id": "9cb467e0-bdcd-4dda-b9b0-a738c5d33ac3",
      "metadata": {
        "id": "9cb467e0-bdcd-4dda-b9b0-a738c5d33ac3"
      },
      "source": [
        "<img src=\"https://sebastianraschka.com/images/LLMs-from-scratch-images/ch02_compressed/14.webp\" width=\"500px\">"
      ]
    },
    {
      "cell_type": "markdown",
      "id": "b1ae6d45-f26e-4b83-9c7b-cff55ffa7d16",
      "metadata": {
        "id": "b1ae6d45-f26e-4b83-9c7b-cff55ffa7d16"
      },
      "source": [
        "- We can also create batched outputs\n",
        "- Note that we increase the stride here so that we don't have overlaps between the batches, since more overlap could lead to increased overfitting"
      ]
    },
    {
      "cell_type": "code",
      "execution_count": null,
      "id": "1916e7a6-f03d-4f09-91a6-d0bdbac5a58c",
      "metadata": {
        "id": "1916e7a6-f03d-4f09-91a6-d0bdbac5a58c",
        "outputId": "db0953d9-c8aa-4f04-fb41-6a9412ffef20"
      },
      "outputs": [
        {
          "name": "stdout",
          "output_type": "stream",
          "text": [
            "Inputs:\n",
            " tensor([[   40,   367,  2885,  1464],\n",
            "        [ 1807,  3619,   402,   271],\n",
            "        [10899,  2138,   257,  7026],\n",
            "        [15632,   438,  2016,   257],\n",
            "        [  922,  5891,  1576,   438],\n",
            "        [  568,   340,   373,   645],\n",
            "        [ 1049,  5975,   284,   502],\n",
            "        [  284,  3285,   326,    11]])\n",
            "\n",
            "Targets:\n",
            " tensor([[  367,  2885,  1464,  1807],\n",
            "        [ 3619,   402,   271, 10899],\n",
            "        [ 2138,   257,  7026, 15632],\n",
            "        [  438,  2016,   257,   922],\n",
            "        [ 5891,  1576,   438,   568],\n",
            "        [  340,   373,   645,  1049],\n",
            "        [ 5975,   284,   502,   284],\n",
            "        [ 3285,   326,    11,   287]])\n"
          ]
        }
      ],
      "source": [
        "dataloader = create_dataloader_v1(raw_text, batch_size=8, max_length=4, stride=4, shuffle=False)\n",
        "\n",
        "data_iter = iter(dataloader)\n",
        "inputs, targets = next(data_iter)\n",
        "print(\"Inputs:\\n\", inputs)\n",
        "print(\"\\nTargets:\\n\", targets)"
      ]
    },
    {
      "cell_type": "markdown",
      "id": "2cd2fcda-2fda-4aa8-8bc8-de1e496f9db1",
      "metadata": {
        "id": "2cd2fcda-2fda-4aa8-8bc8-de1e496f9db1"
      },
      "source": [
        "## 2.7 Creating token embeddings"
      ]
    },
    {
      "cell_type": "markdown",
      "id": "1a301068-6ab2-44ff-a915-1ba11688274f",
      "metadata": {
        "id": "1a301068-6ab2-44ff-a915-1ba11688274f"
      },
      "source": [
        "- The data is already almost ready for an LLM\n",
        "- But lastly let us embed the tokens in a continuous vector representation using an embedding layer\n",
        "- Usually, these embedding layers are part of the LLM itself and are updated (trained) during model training"
      ]
    },
    {
      "cell_type": "markdown",
      "id": "e85089aa-8671-4e5f-a2b3-ef252004ee4c",
      "metadata": {
        "id": "e85089aa-8671-4e5f-a2b3-ef252004ee4c"
      },
      "source": [
        "<img src=\"https://sebastianraschka.com/images/LLMs-from-scratch-images/ch02_compressed/15.webp\" width=\"400px\">"
      ]
    },
    {
      "cell_type": "markdown",
      "id": "44e014ca-1fc5-4b90-b6fa-c2097bb92c0b",
      "metadata": {
        "id": "44e014ca-1fc5-4b90-b6fa-c2097bb92c0b"
      },
      "source": [
        "- Suppose we have the following four input examples with input ids 2, 3, 5, and 1 (after tokenization):"
      ]
    },
    {
      "cell_type": "code",
      "execution_count": null,
      "id": "15a6304c-9474-4470-b85d-3991a49fa653",
      "metadata": {
        "id": "15a6304c-9474-4470-b85d-3991a49fa653"
      },
      "outputs": [],
      "source": [
        "input_ids = torch.tensor([2, 3, 5, 1])"
      ]
    },
    {
      "cell_type": "markdown",
      "id": "14da6344-2c71-4837-858d-dd120005ba05",
      "metadata": {
        "id": "14da6344-2c71-4837-858d-dd120005ba05"
      },
      "source": [
        "- For the sake of simplicity, suppose we have a small vocabulary of only 6 words and we want to create embeddings of size 3:"
      ]
    },
    {
      "cell_type": "code",
      "execution_count": null,
      "id": "93cb2cee-9aa6-4bb8-8977-c65661d16eda",
      "metadata": {
        "id": "93cb2cee-9aa6-4bb8-8977-c65661d16eda"
      },
      "outputs": [],
      "source": [
        "vocab_size = 6\n",
        "output_dim = 3\n",
        "\n",
        "torch.manual_seed(123)\n",
        "embedding_layer = torch.nn.Embedding(vocab_size, output_dim)"
      ]
    },
    {
      "cell_type": "markdown",
      "id": "4ff241f6-78eb-4e4a-a55f-5b2b6196d5b0",
      "metadata": {
        "id": "4ff241f6-78eb-4e4a-a55f-5b2b6196d5b0"
      },
      "source": [
        "- This would result in a 6x3 weight matrix:"
      ]
    },
    {
      "cell_type": "code",
      "execution_count": null,
      "id": "a686eb61-e737-4351-8f1c-222913d47468",
      "metadata": {
        "id": "a686eb61-e737-4351-8f1c-222913d47468",
        "outputId": "b58740af-9730-4051-8538-e2571d7bbbf6"
      },
      "outputs": [
        {
          "name": "stdout",
          "output_type": "stream",
          "text": [
            "Parameter containing:\n",
            "tensor([[ 0.3374, -0.1778, -0.1690],\n",
            "        [ 0.9178,  1.5810,  1.3010],\n",
            "        [ 1.2753, -0.2010, -0.1606],\n",
            "        [-0.4015,  0.9666, -1.1481],\n",
            "        [-1.1589,  0.3255, -0.6315],\n",
            "        [-2.8400, -0.7849, -1.4096]], requires_grad=True)\n"
          ]
        }
      ],
      "source": [
        "print(embedding_layer.weight)"
      ]
    },
    {
      "cell_type": "markdown",
      "id": "26fcf4f5-0801-4eb4-bb90-acce87935ac7",
      "metadata": {
        "id": "26fcf4f5-0801-4eb4-bb90-acce87935ac7"
      },
      "source": [
        "- For those who are familiar with one-hot encoding, the embedding layer approach above is essentially just a more efficient way of implementing one-hot encoding followed by matrix multiplication in a fully-connected layer, which is described in the supplementary code in [./embedding_vs_matmul](../03_bonus_embedding-vs-matmul)\n",
        "- Because the embedding layer is just a more efficient implementation that is equivalent to the one-hot encoding and matrix-multiplication approach it can be seen as a neural network layer that can be optimized via backpropagation"
      ]
    },
    {
      "cell_type": "markdown",
      "id": "4b0d58c3-83c0-4205-aca2-9c48b19fd4a7",
      "metadata": {
        "id": "4b0d58c3-83c0-4205-aca2-9c48b19fd4a7"
      },
      "source": [
        "- To convert a token with id 3 into a 3-dimensional vector, we do the following:"
      ]
    },
    {
      "cell_type": "code",
      "execution_count": null,
      "id": "e43600ba-f287-4746-8ddf-d0f71a9023ca",
      "metadata": {
        "id": "e43600ba-f287-4746-8ddf-d0f71a9023ca",
        "outputId": "a4a62e5b-4931-45ac-dcfd-f130c531c011"
      },
      "outputs": [
        {
          "name": "stdout",
          "output_type": "stream",
          "text": [
            "tensor([[-0.4015,  0.9666, -1.1481]], grad_fn=<EmbeddingBackward0>)\n"
          ]
        }
      ],
      "source": [
        "print(embedding_layer(torch.tensor([3])))"
      ]
    },
    {
      "cell_type": "markdown",
      "id": "a7bbf625-4f36-491d-87b4-3969efb784b0",
      "metadata": {
        "id": "a7bbf625-4f36-491d-87b4-3969efb784b0"
      },
      "source": [
        "- Note that the above is the 4th row in the `embedding_layer` weight matrix\n",
        "- To embed all four `input_ids` values above, we do"
      ]
    },
    {
      "cell_type": "code",
      "execution_count": null,
      "id": "50280ead-0363-44c8-8c35-bb885d92c8b7",
      "metadata": {
        "id": "50280ead-0363-44c8-8c35-bb885d92c8b7",
        "outputId": "8728c79b-ef88-4915-951e-134682fe6249"
      },
      "outputs": [
        {
          "name": "stdout",
          "output_type": "stream",
          "text": [
            "tensor([[ 1.2753, -0.2010, -0.1606],\n",
            "        [-0.4015,  0.9666, -1.1481],\n",
            "        [-2.8400, -0.7849, -1.4096],\n",
            "        [ 0.9178,  1.5810,  1.3010]], grad_fn=<EmbeddingBackward0>)\n"
          ]
        }
      ],
      "source": [
        "print(embedding_layer(input_ids))"
      ]
    },
    {
      "cell_type": "markdown",
      "id": "be97ced4-bd13-42b7-866a-4d699a17e155",
      "metadata": {
        "id": "be97ced4-bd13-42b7-866a-4d699a17e155"
      },
      "source": [
        "- An embedding layer is essentially a look-up operation:"
      ]
    },
    {
      "cell_type": "markdown",
      "id": "f33c2741-bf1b-4c60-b7fd-61409d556646",
      "metadata": {
        "id": "f33c2741-bf1b-4c60-b7fd-61409d556646"
      },
      "source": [
        "<img src=\"https://sebastianraschka.com/images/LLMs-from-scratch-images/ch02_compressed/16.webp?123\" width=\"500px\">"
      ]
    },
    {
      "cell_type": "markdown",
      "id": "08218d9f-aa1a-4afb-a105-72ff96a54e73",
      "metadata": {
        "id": "08218d9f-aa1a-4afb-a105-72ff96a54e73"
      },
      "source": [
        "- **You may be interested in the bonus content comparing embedding layers with regular linear layers: [../03_bonus_embedding-vs-matmul](../03_bonus_embedding-vs-matmul)**"
      ]
    },
    {
      "cell_type": "markdown",
      "id": "c393d270-b950-4bc8-99ea-97d74f2ea0f6",
      "metadata": {
        "id": "c393d270-b950-4bc8-99ea-97d74f2ea0f6"
      },
      "source": [
        "## 2.8 Encoding word positions"
      ]
    },
    {
      "cell_type": "markdown",
      "id": "24940068-1099-4698-bdc0-e798515e2902",
      "metadata": {
        "id": "24940068-1099-4698-bdc0-e798515e2902"
      },
      "source": [
        "- Embedding layer convert IDs into identical vector representations regardless of where they are located in the input sequence:"
      ]
    },
    {
      "cell_type": "markdown",
      "id": "9e0b14a2-f3f3-490e-b513-f262dbcf94fa",
      "metadata": {
        "id": "9e0b14a2-f3f3-490e-b513-f262dbcf94fa"
      },
      "source": [
        "<img src=\"https://sebastianraschka.com/images/LLMs-from-scratch-images/ch02_compressed/17.webp\" width=\"400px\">"
      ]
    },
    {
      "cell_type": "markdown",
      "id": "92a7d7fe-38a5-46e6-8db6-b688887b0430",
      "metadata": {
        "id": "92a7d7fe-38a5-46e6-8db6-b688887b0430"
      },
      "source": [
        "- Positional embeddings are combined with the token embedding vector to form the input embeddings for a large language model:"
      ]
    },
    {
      "cell_type": "markdown",
      "id": "48de37db-d54d-45c4-ab3e-88c0783ad2e4",
      "metadata": {
        "id": "48de37db-d54d-45c4-ab3e-88c0783ad2e4"
      },
      "source": [
        "<img src=\"https://sebastianraschka.com/images/LLMs-from-scratch-images/ch02_compressed/18.webp\" width=\"500px\">"
      ]
    },
    {
      "cell_type": "markdown",
      "id": "7f187f87-c1f8-4c2e-8050-350bbb972f55",
      "metadata": {
        "id": "7f187f87-c1f8-4c2e-8050-350bbb972f55"
      },
      "source": [
        "- The BytePair encoder has a vocabulary size of 50,257:\n",
        "- Suppose we want to encode the input tokens into a 256-dimensional vector representation:"
      ]
    },
    {
      "cell_type": "code",
      "execution_count": null,
      "id": "0b9e344d-03a6-4f2c-b723-67b6a20c5041",
      "metadata": {
        "id": "0b9e344d-03a6-4f2c-b723-67b6a20c5041"
      },
      "outputs": [],
      "source": [
        "vocab_size = 50257\n",
        "output_dim = 256\n",
        "\n",
        "token_embedding_layer = torch.nn.Embedding(vocab_size, output_dim)"
      ]
    },
    {
      "cell_type": "markdown",
      "id": "a2654722-24e4-4b0d-a43c-436a461eb70b",
      "metadata": {
        "id": "a2654722-24e4-4b0d-a43c-436a461eb70b"
      },
      "source": [
        "- If we sample data from the dataloader, we embed the tokens in each batch into a 256-dimensional vector\n",
        "- If we have a batch size of 8 with 4 tokens each, this results in a 8 x 4 x 256 tensor:"
      ]
    },
    {
      "cell_type": "code",
      "execution_count": null,
      "id": "ad56a263-3d2e-4d91-98bf-d0b68d3c7fc3",
      "metadata": {
        "id": "ad56a263-3d2e-4d91-98bf-d0b68d3c7fc3"
      },
      "outputs": [],
      "source": [
        "max_length = 4\n",
        "dataloader = create_dataloader_v1(\n",
        "    raw_text, batch_size=8, max_length=max_length,\n",
        "    stride=max_length, shuffle=False\n",
        ")\n",
        "data_iter = iter(dataloader)\n",
        "inputs, targets = next(data_iter)"
      ]
    },
    {
      "cell_type": "code",
      "execution_count": null,
      "id": "84416b60-3707-4370-bcbc-da0b62f2b64d",
      "metadata": {
        "id": "84416b60-3707-4370-bcbc-da0b62f2b64d",
        "outputId": "117f6da7-32ab-467b-fbbf-703e51de9f04"
      },
      "outputs": [
        {
          "name": "stdout",
          "output_type": "stream",
          "text": [
            "Token IDs:\n",
            " tensor([[   40,   367,  2885,  1464],\n",
            "        [ 1807,  3619,   402,   271],\n",
            "        [10899,  2138,   257,  7026],\n",
            "        [15632,   438,  2016,   257],\n",
            "        [  922,  5891,  1576,   438],\n",
            "        [  568,   340,   373,   645],\n",
            "        [ 1049,  5975,   284,   502],\n",
            "        [  284,  3285,   326,    11]])\n",
            "\n",
            "Inputs shape:\n",
            " torch.Size([8, 4])\n"
          ]
        }
      ],
      "source": [
        "print(\"Token IDs:\\n\", inputs)\n",
        "print(\"\\nInputs shape:\\n\", inputs.shape)"
      ]
    },
    {
      "cell_type": "code",
      "execution_count": null,
      "id": "7766ec38-30d0-4128-8c31-f49f063c43d1",
      "metadata": {
        "id": "7766ec38-30d0-4128-8c31-f49f063c43d1",
        "outputId": "2f38776e-edfc-4f98-919c-49389708816c"
      },
      "outputs": [
        {
          "name": "stdout",
          "output_type": "stream",
          "text": [
            "torch.Size([8, 4, 256])\n"
          ]
        }
      ],
      "source": [
        "token_embeddings = token_embedding_layer(inputs)\n",
        "print(token_embeddings.shape)"
      ]
    },
    {
      "cell_type": "markdown",
      "id": "fe2ae164-6f19-4e32-b9e5-76950fcf1c9f",
      "metadata": {
        "id": "fe2ae164-6f19-4e32-b9e5-76950fcf1c9f"
      },
      "source": [
        "- GPT-2 uses absolute position embeddings, so we just create another embedding layer:"
      ]
    },
    {
      "cell_type": "code",
      "execution_count": null,
      "id": "cc048e20-7ac8-417e-81f5-8fe6f9a4fe07",
      "metadata": {
        "id": "cc048e20-7ac8-417e-81f5-8fe6f9a4fe07"
      },
      "outputs": [],
      "source": [
        "context_length = max_length\n",
        "pos_embedding_layer = torch.nn.Embedding(context_length, output_dim)"
      ]
    },
    {
      "cell_type": "code",
      "execution_count": null,
      "id": "c369a1e7-d566-4b53-b398-d6adafb44105",
      "metadata": {
        "id": "c369a1e7-d566-4b53-b398-d6adafb44105",
        "outputId": "f7b9cb8c-2c5c-4a09-9da3-032b8b0aa03c"
      },
      "outputs": [
        {
          "name": "stdout",
          "output_type": "stream",
          "text": [
            "torch.Size([4, 256])\n"
          ]
        }
      ],
      "source": [
        "pos_embeddings = pos_embedding_layer(torch.arange(max_length))\n",
        "print(pos_embeddings.shape)"
      ]
    },
    {
      "cell_type": "markdown",
      "id": "870e9d9f-2935-461a-9518-6d1386b976d6",
      "metadata": {
        "id": "870e9d9f-2935-461a-9518-6d1386b976d6"
      },
      "source": [
        "- To create the input embeddings used in an LLM, we simply add the token and the positional embeddings:"
      ]
    },
    {
      "cell_type": "code",
      "execution_count": null,
      "id": "b22fab89-526e-43c8-9035-5b7018e34288",
      "metadata": {
        "id": "b22fab89-526e-43c8-9035-5b7018e34288",
        "outputId": "f53c969f-ba61-4d0e-a19f-5d6319edbc2a"
      },
      "outputs": [
        {
          "name": "stdout",
          "output_type": "stream",
          "text": [
            "torch.Size([8, 4, 256])\n"
          ]
        }
      ],
      "source": [
        "input_embeddings = token_embeddings + pos_embeddings\n",
        "print(input_embeddings.shape)"
      ]
    },
    {
      "cell_type": "markdown",
      "id": "1fbda581-6f9b-476f-8ea7-d244e6a4eaec",
      "metadata": {
        "id": "1fbda581-6f9b-476f-8ea7-d244e6a4eaec"
      },
      "source": [
        "- In the initial phase of the input processing workflow, the input text is segmented into separate tokens\n",
        "- Following this segmentation, these tokens are transformed into token IDs based on a predefined vocabulary:"
      ]
    },
    {
      "cell_type": "markdown",
      "id": "d1bb0f7e-460d-44db-b366-096adcd84fff",
      "metadata": {
        "id": "d1bb0f7e-460d-44db-b366-096adcd84fff"
      },
      "source": [
        "<img src=\"https://sebastianraschka.com/images/LLMs-from-scratch-images/ch02_compressed/19.webp\" width=\"400px\">"
      ]
    },
    {
      "cell_type": "markdown",
      "id": "63230f2e-258f-4497-9e2e-8deee4530364",
      "metadata": {
        "id": "63230f2e-258f-4497-9e2e-8deee4530364"
      },
      "source": [
        "# Summary and takeaways"
      ]
    },
    {
      "cell_type": "markdown",
      "id": "8b3293a6-45a5-47cd-aa00-b23e3ca0a73f",
      "metadata": {
        "id": "8b3293a6-45a5-47cd-aa00-b23e3ca0a73f"
      },
      "source": [
        "See the [./dataloader.ipynb](./dataloader.ipynb) code notebook, which is a concise version of the data loader that we implemented in this chapter and will need for training the GPT model in upcoming chapters.\n",
        "\n",
        "See [./exercise-solutions.ipynb](./exercise-solutions.ipynb) for the exercise solutions."
      ]
    }
  ],
  "metadata": {
    "kernelspec": {
      "display_name": "Python 3 (ipykernel)",
      "language": "python",
      "name": "python3"
    },
    "language_info": {
      "codemirror_mode": {
        "name": "ipython",
        "version": 3
      },
      "file_extension": ".py",
      "mimetype": "text/x-python",
      "name": "python",
      "nbconvert_exporter": "python",
      "pygments_lexer": "ipython3",
      "version": "3.11.4"
    },
    "colab": {
      "provenance": [],
      "include_colab_link": true
    }
  },
  "nbformat": 4,
  "nbformat_minor": 5
}